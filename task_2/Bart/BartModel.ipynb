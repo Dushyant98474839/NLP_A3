{
 "cells": [
  {
   "cell_type": "code",
   "execution_count": 2,
   "metadata": {
    "_cell_guid": "b1076dfc-b9ad-4769-8c92-a6c4dae69d19",
    "_uuid": "8f2839f25d086af736a60e9eeb907d3b93b6e0e5",
    "execution": {
     "iopub.execute_input": "2025-04-06T14:51:55.684958Z",
     "iopub.status.busy": "2025-04-06T14:51:55.684550Z",
     "iopub.status.idle": "2025-04-06T14:51:55.718397Z",
     "shell.execute_reply": "2025-04-06T14:51:55.714377Z",
     "shell.execute_reply.started": "2025-04-06T14:51:55.684927Z"
    },
    "trusted": true
   },
   "outputs": [
    {
     "name": "stdout",
     "output_type": "stream",
     "text": [
      "GPU Available: False\n",
      "Device: CPU\n"
     ]
    },
    {
     "ename": "FileNotFoundError",
     "evalue": "[Errno 2] No such file or directory: '/kaggle/input/clan-dataset/CLAN_data - CLAN_data.csv'",
     "output_type": "error",
     "traceback": [
      "\u001b[1;31m---------------------------------------------------------------------------\u001b[0m",
      "\u001b[1;31mFileNotFoundError\u001b[0m                         Traceback (most recent call last)",
      "Cell \u001b[1;32mIn[2], line 6\u001b[0m\n\u001b[0;32m      3\u001b[0m \u001b[38;5;28mprint\u001b[39m(\u001b[38;5;124m\"\u001b[39m\u001b[38;5;124mDevice:\u001b[39m\u001b[38;5;124m\"\u001b[39m, torch\u001b[38;5;241m.\u001b[39mcuda\u001b[38;5;241m.\u001b[39mget_device_name(\u001b[38;5;241m0\u001b[39m) \u001b[38;5;28;01mif\u001b[39;00m torch\u001b[38;5;241m.\u001b[39mcuda\u001b[38;5;241m.\u001b[39mis_available() \u001b[38;5;28;01melse\u001b[39;00m \u001b[38;5;124m\"\u001b[39m\u001b[38;5;124mCPU\u001b[39m\u001b[38;5;124m\"\u001b[39m)\n\u001b[0;32m      5\u001b[0m \u001b[38;5;28;01mimport\u001b[39;00m \u001b[38;5;21;01mpandas\u001b[39;00m \u001b[38;5;28;01mas\u001b[39;00m \u001b[38;5;21;01mpd\u001b[39;00m\n\u001b[1;32m----> 6\u001b[0m df \u001b[38;5;241m=\u001b[39m \u001b[43mpd\u001b[49m\u001b[38;5;241;43m.\u001b[39;49m\u001b[43mread_csv\u001b[49m\u001b[43m(\u001b[49m\u001b[38;5;124;43m\"\u001b[39;49m\u001b[38;5;124;43m/kaggle/input/clan-dataset/CLAN_data - CLAN_data.csv\u001b[39;49m\u001b[38;5;124;43m\"\u001b[39;49m\u001b[43m)\u001b[49m\n",
      "File \u001b[1;32m~\\AppData\\Local\\Packages\\PythonSoftwareFoundation.Python.3.11_qbz5n2kfra8p0\\LocalCache\\local-packages\\Python311\\site-packages\\pandas\\io\\parsers\\readers.py:1026\u001b[0m, in \u001b[0;36mread_csv\u001b[1;34m(filepath_or_buffer, sep, delimiter, header, names, index_col, usecols, dtype, engine, converters, true_values, false_values, skipinitialspace, skiprows, skipfooter, nrows, na_values, keep_default_na, na_filter, verbose, skip_blank_lines, parse_dates, infer_datetime_format, keep_date_col, date_parser, date_format, dayfirst, cache_dates, iterator, chunksize, compression, thousands, decimal, lineterminator, quotechar, quoting, doublequote, escapechar, comment, encoding, encoding_errors, dialect, on_bad_lines, delim_whitespace, low_memory, memory_map, float_precision, storage_options, dtype_backend)\u001b[0m\n\u001b[0;32m   1013\u001b[0m kwds_defaults \u001b[38;5;241m=\u001b[39m _refine_defaults_read(\n\u001b[0;32m   1014\u001b[0m     dialect,\n\u001b[0;32m   1015\u001b[0m     delimiter,\n\u001b[1;32m   (...)\u001b[0m\n\u001b[0;32m   1022\u001b[0m     dtype_backend\u001b[38;5;241m=\u001b[39mdtype_backend,\n\u001b[0;32m   1023\u001b[0m )\n\u001b[0;32m   1024\u001b[0m kwds\u001b[38;5;241m.\u001b[39mupdate(kwds_defaults)\n\u001b[1;32m-> 1026\u001b[0m \u001b[38;5;28;01mreturn\u001b[39;00m \u001b[43m_read\u001b[49m\u001b[43m(\u001b[49m\u001b[43mfilepath_or_buffer\u001b[49m\u001b[43m,\u001b[49m\u001b[43m \u001b[49m\u001b[43mkwds\u001b[49m\u001b[43m)\u001b[49m\n",
      "File \u001b[1;32m~\\AppData\\Local\\Packages\\PythonSoftwareFoundation.Python.3.11_qbz5n2kfra8p0\\LocalCache\\local-packages\\Python311\\site-packages\\pandas\\io\\parsers\\readers.py:620\u001b[0m, in \u001b[0;36m_read\u001b[1;34m(filepath_or_buffer, kwds)\u001b[0m\n\u001b[0;32m    617\u001b[0m _validate_names(kwds\u001b[38;5;241m.\u001b[39mget(\u001b[38;5;124m\"\u001b[39m\u001b[38;5;124mnames\u001b[39m\u001b[38;5;124m\"\u001b[39m, \u001b[38;5;28;01mNone\u001b[39;00m))\n\u001b[0;32m    619\u001b[0m \u001b[38;5;66;03m# Create the parser.\u001b[39;00m\n\u001b[1;32m--> 620\u001b[0m parser \u001b[38;5;241m=\u001b[39m \u001b[43mTextFileReader\u001b[49m\u001b[43m(\u001b[49m\u001b[43mfilepath_or_buffer\u001b[49m\u001b[43m,\u001b[49m\u001b[43m \u001b[49m\u001b[38;5;241;43m*\u001b[39;49m\u001b[38;5;241;43m*\u001b[39;49m\u001b[43mkwds\u001b[49m\u001b[43m)\u001b[49m\n\u001b[0;32m    622\u001b[0m \u001b[38;5;28;01mif\u001b[39;00m chunksize \u001b[38;5;129;01mor\u001b[39;00m iterator:\n\u001b[0;32m    623\u001b[0m     \u001b[38;5;28;01mreturn\u001b[39;00m parser\n",
      "File \u001b[1;32m~\\AppData\\Local\\Packages\\PythonSoftwareFoundation.Python.3.11_qbz5n2kfra8p0\\LocalCache\\local-packages\\Python311\\site-packages\\pandas\\io\\parsers\\readers.py:1620\u001b[0m, in \u001b[0;36mTextFileReader.__init__\u001b[1;34m(self, f, engine, **kwds)\u001b[0m\n\u001b[0;32m   1617\u001b[0m     \u001b[38;5;28mself\u001b[39m\u001b[38;5;241m.\u001b[39moptions[\u001b[38;5;124m\"\u001b[39m\u001b[38;5;124mhas_index_names\u001b[39m\u001b[38;5;124m\"\u001b[39m] \u001b[38;5;241m=\u001b[39m kwds[\u001b[38;5;124m\"\u001b[39m\u001b[38;5;124mhas_index_names\u001b[39m\u001b[38;5;124m\"\u001b[39m]\n\u001b[0;32m   1619\u001b[0m \u001b[38;5;28mself\u001b[39m\u001b[38;5;241m.\u001b[39mhandles: IOHandles \u001b[38;5;241m|\u001b[39m \u001b[38;5;28;01mNone\u001b[39;00m \u001b[38;5;241m=\u001b[39m \u001b[38;5;28;01mNone\u001b[39;00m\n\u001b[1;32m-> 1620\u001b[0m \u001b[38;5;28mself\u001b[39m\u001b[38;5;241m.\u001b[39m_engine \u001b[38;5;241m=\u001b[39m \u001b[38;5;28;43mself\u001b[39;49m\u001b[38;5;241;43m.\u001b[39;49m\u001b[43m_make_engine\u001b[49m\u001b[43m(\u001b[49m\u001b[43mf\u001b[49m\u001b[43m,\u001b[49m\u001b[43m \u001b[49m\u001b[38;5;28;43mself\u001b[39;49m\u001b[38;5;241;43m.\u001b[39;49m\u001b[43mengine\u001b[49m\u001b[43m)\u001b[49m\n",
      "File \u001b[1;32m~\\AppData\\Local\\Packages\\PythonSoftwareFoundation.Python.3.11_qbz5n2kfra8p0\\LocalCache\\local-packages\\Python311\\site-packages\\pandas\\io\\parsers\\readers.py:1880\u001b[0m, in \u001b[0;36mTextFileReader._make_engine\u001b[1;34m(self, f, engine)\u001b[0m\n\u001b[0;32m   1878\u001b[0m     \u001b[38;5;28;01mif\u001b[39;00m \u001b[38;5;124m\"\u001b[39m\u001b[38;5;124mb\u001b[39m\u001b[38;5;124m\"\u001b[39m \u001b[38;5;129;01mnot\u001b[39;00m \u001b[38;5;129;01min\u001b[39;00m mode:\n\u001b[0;32m   1879\u001b[0m         mode \u001b[38;5;241m+\u001b[39m\u001b[38;5;241m=\u001b[39m \u001b[38;5;124m\"\u001b[39m\u001b[38;5;124mb\u001b[39m\u001b[38;5;124m\"\u001b[39m\n\u001b[1;32m-> 1880\u001b[0m \u001b[38;5;28mself\u001b[39m\u001b[38;5;241m.\u001b[39mhandles \u001b[38;5;241m=\u001b[39m \u001b[43mget_handle\u001b[49m\u001b[43m(\u001b[49m\n\u001b[0;32m   1881\u001b[0m \u001b[43m    \u001b[49m\u001b[43mf\u001b[49m\u001b[43m,\u001b[49m\n\u001b[0;32m   1882\u001b[0m \u001b[43m    \u001b[49m\u001b[43mmode\u001b[49m\u001b[43m,\u001b[49m\n\u001b[0;32m   1883\u001b[0m \u001b[43m    \u001b[49m\u001b[43mencoding\u001b[49m\u001b[38;5;241;43m=\u001b[39;49m\u001b[38;5;28;43mself\u001b[39;49m\u001b[38;5;241;43m.\u001b[39;49m\u001b[43moptions\u001b[49m\u001b[38;5;241;43m.\u001b[39;49m\u001b[43mget\u001b[49m\u001b[43m(\u001b[49m\u001b[38;5;124;43m\"\u001b[39;49m\u001b[38;5;124;43mencoding\u001b[39;49m\u001b[38;5;124;43m\"\u001b[39;49m\u001b[43m,\u001b[49m\u001b[43m \u001b[49m\u001b[38;5;28;43;01mNone\u001b[39;49;00m\u001b[43m)\u001b[49m\u001b[43m,\u001b[49m\n\u001b[0;32m   1884\u001b[0m \u001b[43m    \u001b[49m\u001b[43mcompression\u001b[49m\u001b[38;5;241;43m=\u001b[39;49m\u001b[38;5;28;43mself\u001b[39;49m\u001b[38;5;241;43m.\u001b[39;49m\u001b[43moptions\u001b[49m\u001b[38;5;241;43m.\u001b[39;49m\u001b[43mget\u001b[49m\u001b[43m(\u001b[49m\u001b[38;5;124;43m\"\u001b[39;49m\u001b[38;5;124;43mcompression\u001b[39;49m\u001b[38;5;124;43m\"\u001b[39;49m\u001b[43m,\u001b[49m\u001b[43m \u001b[49m\u001b[38;5;28;43;01mNone\u001b[39;49;00m\u001b[43m)\u001b[49m\u001b[43m,\u001b[49m\n\u001b[0;32m   1885\u001b[0m \u001b[43m    \u001b[49m\u001b[43mmemory_map\u001b[49m\u001b[38;5;241;43m=\u001b[39;49m\u001b[38;5;28;43mself\u001b[39;49m\u001b[38;5;241;43m.\u001b[39;49m\u001b[43moptions\u001b[49m\u001b[38;5;241;43m.\u001b[39;49m\u001b[43mget\u001b[49m\u001b[43m(\u001b[49m\u001b[38;5;124;43m\"\u001b[39;49m\u001b[38;5;124;43mmemory_map\u001b[39;49m\u001b[38;5;124;43m\"\u001b[39;49m\u001b[43m,\u001b[49m\u001b[43m \u001b[49m\u001b[38;5;28;43;01mFalse\u001b[39;49;00m\u001b[43m)\u001b[49m\u001b[43m,\u001b[49m\n\u001b[0;32m   1886\u001b[0m \u001b[43m    \u001b[49m\u001b[43mis_text\u001b[49m\u001b[38;5;241;43m=\u001b[39;49m\u001b[43mis_text\u001b[49m\u001b[43m,\u001b[49m\n\u001b[0;32m   1887\u001b[0m \u001b[43m    \u001b[49m\u001b[43merrors\u001b[49m\u001b[38;5;241;43m=\u001b[39;49m\u001b[38;5;28;43mself\u001b[39;49m\u001b[38;5;241;43m.\u001b[39;49m\u001b[43moptions\u001b[49m\u001b[38;5;241;43m.\u001b[39;49m\u001b[43mget\u001b[49m\u001b[43m(\u001b[49m\u001b[38;5;124;43m\"\u001b[39;49m\u001b[38;5;124;43mencoding_errors\u001b[39;49m\u001b[38;5;124;43m\"\u001b[39;49m\u001b[43m,\u001b[49m\u001b[43m \u001b[49m\u001b[38;5;124;43m\"\u001b[39;49m\u001b[38;5;124;43mstrict\u001b[39;49m\u001b[38;5;124;43m\"\u001b[39;49m\u001b[43m)\u001b[49m\u001b[43m,\u001b[49m\n\u001b[0;32m   1888\u001b[0m \u001b[43m    \u001b[49m\u001b[43mstorage_options\u001b[49m\u001b[38;5;241;43m=\u001b[39;49m\u001b[38;5;28;43mself\u001b[39;49m\u001b[38;5;241;43m.\u001b[39;49m\u001b[43moptions\u001b[49m\u001b[38;5;241;43m.\u001b[39;49m\u001b[43mget\u001b[49m\u001b[43m(\u001b[49m\u001b[38;5;124;43m\"\u001b[39;49m\u001b[38;5;124;43mstorage_options\u001b[39;49m\u001b[38;5;124;43m\"\u001b[39;49m\u001b[43m,\u001b[49m\u001b[43m \u001b[49m\u001b[38;5;28;43;01mNone\u001b[39;49;00m\u001b[43m)\u001b[49m\u001b[43m,\u001b[49m\n\u001b[0;32m   1889\u001b[0m \u001b[43m\u001b[49m\u001b[43m)\u001b[49m\n\u001b[0;32m   1890\u001b[0m \u001b[38;5;28;01massert\u001b[39;00m \u001b[38;5;28mself\u001b[39m\u001b[38;5;241m.\u001b[39mhandles \u001b[38;5;129;01mis\u001b[39;00m \u001b[38;5;129;01mnot\u001b[39;00m \u001b[38;5;28;01mNone\u001b[39;00m\n\u001b[0;32m   1891\u001b[0m f \u001b[38;5;241m=\u001b[39m \u001b[38;5;28mself\u001b[39m\u001b[38;5;241m.\u001b[39mhandles\u001b[38;5;241m.\u001b[39mhandle\n",
      "File \u001b[1;32m~\\AppData\\Local\\Packages\\PythonSoftwareFoundation.Python.3.11_qbz5n2kfra8p0\\LocalCache\\local-packages\\Python311\\site-packages\\pandas\\io\\common.py:873\u001b[0m, in \u001b[0;36mget_handle\u001b[1;34m(path_or_buf, mode, encoding, compression, memory_map, is_text, errors, storage_options)\u001b[0m\n\u001b[0;32m    868\u001b[0m \u001b[38;5;28;01melif\u001b[39;00m \u001b[38;5;28misinstance\u001b[39m(handle, \u001b[38;5;28mstr\u001b[39m):\n\u001b[0;32m    869\u001b[0m     \u001b[38;5;66;03m# Check whether the filename is to be opened in binary mode.\u001b[39;00m\n\u001b[0;32m    870\u001b[0m     \u001b[38;5;66;03m# Binary mode does not support 'encoding' and 'newline'.\u001b[39;00m\n\u001b[0;32m    871\u001b[0m     \u001b[38;5;28;01mif\u001b[39;00m ioargs\u001b[38;5;241m.\u001b[39mencoding \u001b[38;5;129;01mand\u001b[39;00m \u001b[38;5;124m\"\u001b[39m\u001b[38;5;124mb\u001b[39m\u001b[38;5;124m\"\u001b[39m \u001b[38;5;129;01mnot\u001b[39;00m \u001b[38;5;129;01min\u001b[39;00m ioargs\u001b[38;5;241m.\u001b[39mmode:\n\u001b[0;32m    872\u001b[0m         \u001b[38;5;66;03m# Encoding\u001b[39;00m\n\u001b[1;32m--> 873\u001b[0m         handle \u001b[38;5;241m=\u001b[39m \u001b[38;5;28;43mopen\u001b[39;49m\u001b[43m(\u001b[49m\n\u001b[0;32m    874\u001b[0m \u001b[43m            \u001b[49m\u001b[43mhandle\u001b[49m\u001b[43m,\u001b[49m\n\u001b[0;32m    875\u001b[0m \u001b[43m            \u001b[49m\u001b[43mioargs\u001b[49m\u001b[38;5;241;43m.\u001b[39;49m\u001b[43mmode\u001b[49m\u001b[43m,\u001b[49m\n\u001b[0;32m    876\u001b[0m \u001b[43m            \u001b[49m\u001b[43mencoding\u001b[49m\u001b[38;5;241;43m=\u001b[39;49m\u001b[43mioargs\u001b[49m\u001b[38;5;241;43m.\u001b[39;49m\u001b[43mencoding\u001b[49m\u001b[43m,\u001b[49m\n\u001b[0;32m    877\u001b[0m \u001b[43m            \u001b[49m\u001b[43merrors\u001b[49m\u001b[38;5;241;43m=\u001b[39;49m\u001b[43merrors\u001b[49m\u001b[43m,\u001b[49m\n\u001b[0;32m    878\u001b[0m \u001b[43m            \u001b[49m\u001b[43mnewline\u001b[49m\u001b[38;5;241;43m=\u001b[39;49m\u001b[38;5;124;43m\"\u001b[39;49m\u001b[38;5;124;43m\"\u001b[39;49m\u001b[43m,\u001b[49m\n\u001b[0;32m    879\u001b[0m \u001b[43m        \u001b[49m\u001b[43m)\u001b[49m\n\u001b[0;32m    880\u001b[0m     \u001b[38;5;28;01melse\u001b[39;00m:\n\u001b[0;32m    881\u001b[0m         \u001b[38;5;66;03m# Binary mode\u001b[39;00m\n\u001b[0;32m    882\u001b[0m         handle \u001b[38;5;241m=\u001b[39m \u001b[38;5;28mopen\u001b[39m(handle, ioargs\u001b[38;5;241m.\u001b[39mmode)\n",
      "\u001b[1;31mFileNotFoundError\u001b[0m: [Errno 2] No such file or directory: '/kaggle/input/clan-dataset/CLAN_data - CLAN_data.csv'"
     ]
    }
   ],
   "source": [
    "import torch\n",
    "print(\"GPU Available:\", torch.cuda.is_available())\n",
    "print(\"Device:\", torch.cuda.get_device_name(0) if torch.cuda.is_available() else \"CPU\")\n",
    "\n",
    "import pandas as pd\n",
    "df = pd.read_csv(\"/kaggle/input/clan-dataset/CLAN_data - CLAN_data.csv\")"
   ]
  },
  {
   "cell_type": "code",
   "execution_count": 3,
   "metadata": {
    "execution": {
     "iopub.execute_input": "2025-04-06T14:51:56.365987Z",
     "iopub.status.busy": "2025-04-06T14:51:56.365593Z",
     "iopub.status.idle": "2025-04-06T14:51:59.785184Z",
     "shell.execute_reply": "2025-04-06T14:51:59.784298Z",
     "shell.execute_reply.started": "2025-04-06T14:51:56.365956Z"
    },
    "trusted": true
   },
   "outputs": [
    {
     "name": "stdout",
     "output_type": "stream",
     "text": [
      "Requirement already satisfied: contractions in c:\\users\\acer\\appdata\\local\\packages\\pythonsoftwarefoundation.python.3.11_qbz5n2kfra8p0\\localcache\\local-packages\\python311\\site-packages (0.1.73)\n",
      "Requirement already satisfied: textsearch>=0.0.21 in c:\\users\\acer\\appdata\\local\\packages\\pythonsoftwarefoundation.python.3.11_qbz5n2kfra8p0\\localcache\\local-packages\\python311\\site-packages (from contractions) (0.0.24)\n",
      "Requirement already satisfied: anyascii in c:\\users\\acer\\appdata\\local\\packages\\pythonsoftwarefoundation.python.3.11_qbz5n2kfra8p0\\localcache\\local-packages\\python311\\site-packages (from textsearch>=0.0.21->contractions) (0.3.2)\n",
      "Requirement already satisfied: pyahocorasick in c:\\users\\acer\\appdata\\local\\packages\\pythonsoftwarefoundation.python.3.11_qbz5n2kfra8p0\\localcache\\local-packages\\python311\\site-packages (from textsearch>=0.0.21->contractions) (2.1.0)\n"
     ]
    },
    {
     "name": "stderr",
     "output_type": "stream",
     "text": [
      "\n",
      "[notice] A new release of pip is available: 24.3.1 -> 25.0.1\n",
      "[notice] To update, run: C:\\Users\\acer\\AppData\\Local\\Microsoft\\WindowsApps\\PythonSoftwareFoundation.Python.3.11_qbz5n2kfra8p0\\python.exe -m pip install --upgrade pip\n"
     ]
    }
   ],
   "source": [
    "!pip install contractions\n",
    "# import contractions\n",
    "import re"
   ]
  },
  {
   "cell_type": "code",
   "execution_count": 4,
   "metadata": {
    "execution": {
     "iopub.execute_input": "2025-04-06T14:52:01.300747Z",
     "iopub.status.busy": "2025-04-06T14:52:01.300435Z",
     "iopub.status.idle": "2025-04-06T14:52:01.332936Z",
     "shell.execute_reply": "2025-04-06T14:52:01.332204Z",
     "shell.execute_reply.started": "2025-04-06T14:52:01.300724Z"
    },
    "jupyter": {
     "source_hidden": true
    },
    "trusted": true
   },
   "outputs": [],
   "source": [
    "import contractions\n",
    "\n",
    "# abbreviations = {\n",
    "#     \"gov.\": \"governor\",\n",
    "#     \"feb.\": \"february\",\n",
    "#     \"vp\": \"vice president\",\n",
    "#     \"eta\": \"estimated time of arrival\"\n",
    "# }\n",
    "\n",
    "\n",
    "\n",
    "contractions.add(\"gov.\", \"government\")\n",
    "contractions.add(\"feb.\", \"february\")\n",
    "contractions.add(\"vp\",\"vice president\")\n",
    "contractions.add(\"eta\",\"estimated time of arrival\")\n",
    "contractions.add(\"dr.\", \"doctor\")\n",
    "contractions.add(\"mr.\", \"mister\")\n",
    "contractions.add(\"mrs.\", \"mistress\")\n",
    "contractions.add(\"st.\", \"street\")\n",
    "contractions.add(\"ave.\", \"avenue\")\n",
    "contractions.add(\"jr.\", \"junior\")\n",
    "contractions.add(\"sr.\", \"senior\")\n",
    "contractions.add(\"dept.\", \"department\")\n",
    "contractions.add(\"min.\", \"minute\")\n",
    "contractions.add(\"sec.\", \"second\")\n",
    "contractions.add(\"yr.\", \"year\")\n",
    "contractions.add(\"hr.\", \"hour\")\n",
    "contractions.add(\"asap\", \"as soon as possible\")\n",
    "contractions.add(\"fyi\", \"for your information\")\n",
    "contractions.add(\"aka\", \"also known as\")\n",
    "contractions.add(\"idk\", \"I do not know\")\n",
    "contractions.add(\"imo\", \"in my opinion\")\n",
    "contractions.add(\"u.s.\", \"united states\")\n",
    "contractions.add(\"u.k.\", \"united kingdom\")\n",
    "contractions.add(\"n.y.\", \"new york\")\n",
    "contractions.add(\"c.a.\", \"california\")\n",
    "contractions.add(\"etc.\", \"et cetera\")\n",
    "contractions.add(\"e.g.\", \"for example\")\n",
    "contractions.add(\"i.e.\", \"that is\")\n",
    "contractions.add(\"vs.\", \"versus\")\n",
    "contractions.add(\"esp.\", \"especially\")\n",
    "contractions.add(\"mgr.\", \"manager\")\n",
    "contractions.add(\"est.\", \"established\")\n",
    "contractions.add(\"lb.\", \"pound\")\n",
    "contractions.add(\"ft.\", \"feet\")\n",
    "contractions.add(\"yr.\", \"year\")\n",
    "contractions.add(\"tba\", \"to be announced\")\n",
    "contractions.add(\"tbd\", \"to be determined\")\n",
    "contractions.add(\"tbh\", \"to be honest\")\n",
    "contractions.add(\"wtf\", \"what the heck\")\n",
    "contractions.add(\"omg\", \"oh my god\")\n",
    "contractions.add(\"lol\", \"laugh out loud\")\n",
    "contractions.add(\"brb\", \"be right back\")\n",
    "contractions.add(\"ttyl\", \"talk to you later\")\n",
    "contractions.add(\"faq\", \"frequently asked questions\")\n",
    "contractions.add(\"pov\", \"point of view\")\n",
    "contractions.add(\"n/a\", \"not applicable\")\n",
    "contractions.add(\"atm\", \"at the moment\")\n",
    "contractions.add(\"smh\", \"shaking my head\")\n",
    "contractions.add(\"b/c\", \"because\")\n",
    "contractions.add(\"w/\", \"with\")\n",
    "contractions.add(\"w/o\", \"without\")\n",
    "contractions.add(\"gov't\", \"government\")\n",
    "contractions.add(\"appt.\", \"appointment\")\n",
    "contractions.add(\"misc.\", \"miscellaneous\")\n",
    "contractions.add(\"wk.\", \"week\")\n",
    "contractions.add(\"mon.\", \"monday\")\n",
    "contractions.add(\"tues.\", \"tuesday\")\n",
    "contractions.add(\"wed.\", \"wednesday\")\n",
    "contractions.add(\"thurs.\", \"thursday\")\n",
    "contractions.add(\"fri.\", \"friday\")\n",
    "contractions.add(\"sat.\", \"saturday\")\n",
    "contractions.add(\"sun.\", \"sunday\")\n",
    "contractions.add(\"jan.\", \"january\")\n",
    "contractions.add(\"feb.\", \"february\")\n",
    "contractions.add(\"mar.\", \"march\")\n",
    "contractions.add(\"apr.\", \"april\")\n",
    "contractions.add(\"jun.\", \"june\")\n",
    "contractions.add(\"jul.\", \"july\")\n",
    "contractions.add(\"aug.\", \"august\")\n",
    "contractions.add(\"sept.\", \"september\")\n",
    "contractions.add(\"oct.\", \"october\")\n",
    "contractions.add(\"nov.\", \"november\")\n",
    "contractions.add(\"dec.\", \"december\")\n",
    "contractions.add(\"gov\", \"government\")\n",
    "contractions.add(\"bjp\", \"bharatiya janata party\")\n",
    "contractions.add(\"evm\", \"electronic voting machine\")\n",
    "contractions.add(\"usps\", \"united states postal service\")\n",
    "contractions.add(\"ccp\", \"chinese communist party\")\n",
    "contractions.add(\"mlb\", \"major league baseball\")\n",
    "contractions.add(\"wef\", \"world economic forum\")\n",
    "contractions.add(\"aap\", \"aam aadmi party\")\n",
    "contractions.add(\"mrna\", \"messenger ribonucleic acid\")\n",
    "contractions.add(\"wv\", \"west virginia\")\n",
    "contractions.add(\"hhs\", \"health and human services\")\n",
    "contractions.add(\"cab\", \"citizenship amendment bill\")\n",
    "contractions.add(\"frdi\", \"financial resolution and deposit insurance\")\n",
    "contractions.add(\"kfc\", \"kentucky fried chicken\")\n",
    "contractions.add(\"pcr\", \"polymerase chain reaction\")\n",
    "contractions.add(\"isis\", \"islamic state of iraq and syria\")\n",
    "contractions.add(\"who\", \"world health organization\")\n",
    "contractions.add(\"icu\", \"intensive care unit\")\n",
    "contractions.add(\"mc\", \"master of ceremonies\")\n",
    "contractions.add(\"rcts\", \"randomised control trials\")\n",
    "contractions.add(\"cdc\", \"centers for disease control and prevention\")\n",
    "contractions.add(\"fda\", \"food and drug administration\")\n",
    "contractions.add(\"potus\", \"president of the united states\")\n",
    "contractions.add(\"ppm\", \"parts per million\")\n",
    "contractions.add(\"antifa\", \"anti-fascist\")\n",
    "contractions.add(\"nhs\", \"national health service\")\n",
    "contractions.add(\"pm\", \"prime minister\")\n",
    "contractions.add(\"mot\", \"ministry of transport\")\n",
    "contractions.add(\"mp\", \"member of parliament\")\n",
    "contractions.add(\"up\", \"uttar pradesh\")\n",
    "contractions.add(\"hrc\", \"hillary rodham clinton\")\n",
    "contractions.add(\"u.s.\", \"united states\")\n",
    "contractions.add(\"uk\", \"united kingdom\")\n",
    "contractions.add(\"oann\", \"one america news network\")\n",
    "contractions.add(\"roevwade\", \"roe v. wade\")\n",
    "contractions.add(\"sars-cov-2\", \"severe acute respiratory syndrome coronavirus 2\")\n",
    "contractions.add(\"gov.uk\", \"official uk government website\")\n",
    "contractions.add(\"bucor\", \"bureau of corrections\")\n",
    "contractions.add(\"elf\", \"earth liberation front\")\n",
    "contractions.add(\"alf\", \"animal liberation front\")\n",
    "contractions.add(\"va\", \"virginia\")\n",
    "contractions.add(\"amzn\", \"amazon\")\n",
    "contractions.add(\"rjd\", \"rashtriya janata dal\")\n",
    "contractions.add(\"psa\", \"public service announcement\")\n",
    "contractions.add(\"ca\", \"california\")\n",
    "contractions.add(\"fda\", \"food and drug administration\")\n",
    "contractions.add(\"bsp\", \"bahujan samaj party\")\n",
    "contractions.add(\"fcdo\", \"foreign, commonwealth & development office\")\n",
    "contractions.add(\"nyc\", \"new york city\")\n",
    "contractions.add(\"dns\", \"domain name system\")\n",
    "contractions.add(\"fb\", \"facebook\")\n",
    "contractions.add(\"mbuhari\", \"muhammadu buhari\")\n",
    "contractions.add(\"bat\", \"bola ahmed tinubu\")\n",
    "contractions.add(\"dps\", \"delhi public school\")\n",
    "contractions.add(\"eu\", \"european union\")\n",
    "contractions.add(\"caap\", \"civil aviation authority of the philippines\")\n",
    "contractions.add(\"dwp\", \"department for work and pensions\")\n",
    "contractions.add(\"mhra\", \"medicines and healthcare products regulatory agency\")\n",
    "contractions.add(\"paf\", \"pakistan air force\")\n",
    "contractions.add(\"cpi(m)\", \"communist party of india (marxist)\")\n",
    "contractions.add(\"aai\", \"airports authority of india\")\n",
    "contractions.add(\"jd(u)\", \"janata dal (united)\")\n",
    "contractions.add(\"nda\", \"national democratic alliance\")\n",
    "contractions.add(\"msu\", \"michigan state university\")\n",
    "contractions.add(\"ani\", \"asian news international\")\n",
    "contractions.add(\"bbm\", \"bongbong marcos\")\n",
    "contractions.add(\"phe\", \"public health england\")\n",
    "contractions.add(\"cdc\", \"centers for disease control and prevention\")\n",
    "contractions.add(\"cia\", \"central intelligence agency\")\n",
    "contractions.add(\"fbi\", \"federal bureau of investigation\")\n",
    "contractions.add(\"maga\", \"make america great again\")\n",
    "contractions.add(\"pso\", \"personal security officer\")\n",
    "contractions.add(\"au\", \"african union\")\n",
    "contractions.add(\"pbbm\", \"president bongbong marcos\")\n",
    "contractions.add(\"blm\", \"black lives matter\")\n",
    "contractions.add(\"ptv\", \"people's television\")\n",
    "contractions.add(\"cma\", \"conditional marketing authorization\")\n",
    "contractions.add(\"r174\", \"regulation 174\")\n",
    "contractions.add(\"kcr\", \"k. chandrashekar rao\")\n",
    "contractions.add(\"nasa\", \"national aeronautics and space administration\")\n",
    "contractions.add(\"atf\", \"bureau of alcohol, tobacco, firearms and explosives\")\n",
    "contractions.add(\"msm\", \"mainstream media\")\n",
    "contractions.add(\"diy\", \"do it yourself\")\n",
    "contractions.add(\"bbn\", \"big brother\")\n",
    "contractions.add(\"ag\", \"attorney general\")\n",
    "contractions.add(\"vp\", \"vice president\")\n",
    "contractions.add(\"nfl\", \"national football league\")\n",
    "contractions.add(\"tx\", \"texas\")\n",
    "contractions.add(\"ama\", \"american medical association\")\n",
    "contractions.add(\"cr\", \"clinical research\")\n",
    "contractions.add(\"au\", \"african union\")\n",
    "contractions.add(\"ai\", \"artificial intelligence\")\n",
    "contractions.add(\"id\", \"identification\")\n",
    "contractions.add(\"ppe\", \"personal protective equipment\")\n",
    "contractions.add(\"a&e\", \"accident and emergency\")\n",
    "contractions.add(\"gmo\", \"genetically modified organism\")\n",
    "contractions.add(\"ogtr\", \"office of the gene technology regulator\")\n",
    "contractions.add(\"vaids\", \"vaccine-acquired immune deficiency syndrome\")\n",
    "contractions.add(\"wef\", \"world economic forum\")\n",
    "contractions.add(\"nato\", \"north atlantic treaty organization\")\n",
    "contractions.add(\"ips\", \"indian police service\")\n",
    "contractions.add(\"dmk\", \"dravida munnetra kazhagam\")\n",
    "contractions.add(\"co2\", \"carbon dioxide\")\n",
    "contractions.add(\"rumint\", \"rumor intelligence\")\n",
    "contractions.add(\"ssr\", \"sushant singh rajput\")\n",
    "contractions.add(\"mp\", \"member of parliament\")\n",
    "contractions.add(\"ev\", \"electric vehicle\")\n",
    "contractions.add(\"us\", \"united states\")\n",
    "contractions.add(\"usa\", \"united states of america\")\n",
    "contractions.add(\"ppm\", \"parts per million\")\n",
    "contractions.add(\"rs\", \"rupees\")\n",
    "contractions.add(\"dept\", \"department\")\n",
    "contractions.add(\"admin\", \"administration\")\n",
    "contractions.add(\"cong\", \"congress\")\n",
    "contractions.add(\"doc\", \"document\")\n",
    "contractions.add(\"info\", \"information\")\n",
    "contractions.add(\"org\", \"organization\")\n",
    "contractions.add(\"rss\", \"rashtriya swayamsevak sangh\")\n",
    "contractions.add(\"aicc\", \"all india congress committee\")\n",
    "contractions.add(\"pm\", \"prime minister\")\n",
    "contractions.add(\"cm\", \"chief minister\")\n",
    "contractions.add(\"fssai\", \"food safety and standards authority of india\")\n",
    "contractions.add(\"icc\", \"international cricket council\")\n",
    "contractions.add(\"md\", \"managing director\")\n",
    "contractions.add(\"srk\", \"shah rukh khan\")\n",
    "contractions.add(\"mla\", \"member of legislative assembly\")\n",
    "contractions.add(\"hc\", \"high court\")\n",
    "contractions.add(\"hcid\", \"high consequence infectious disease\")\n",
    "contractions.add(\"vax\", \"vaccine\")\n",
    "contractions.add(\"pti\", \"pakistan tehreek-e-insaf\")\n",
    "contractions.add(\"mlb\", \"major league baseball\")\n",
    "contractions.add(\"gp\", \"general practitioner\")\n",
    "contractions.add(\"bbc\", \"british broadcasting corporation\")\n",
    "contractions.add(\"dup\", \"democratic unionist party\")\n",
    "contractions.add(\"tory\", \"conservative party\")\n",
    "contractions.add(\"pres\", \"president\")\n",
    "contractions.add(\"sen\", \"senator\")\n",
    "contractions.add(\"rep\", \"representative\")\n",
    "contractions.add(\"co\", \"company\")\n",
    "contractions.add(\"cv\", \"covid-19\")\n",
    "contractions.add(\"sci\", \"science\")\n",
    "contractions.add(\"corp\", \"corporation\")\n",
    "contractions.add(\"assn\", \"association\")\n",
    "contractions.add(\"com\", \"commission\")\n",
    "contractions.add(\"div\", \"division\")\n",
    "contractions.add(\"inst\", \"institute\")\n",
    "contractions.add(\"nat\", \"national\")\n",
    "contractions.add(\"fed\", \"federal\")\n",
    "contractions.add(\"sec\", \"secretary\")\n",
    "contractions.add(\"treas\", \"treasury\")\n",
    "contractions.add(\"legis\", \"legislature\")\n",
    "contractions.add(\"jud\", \"judicial\")\n",
    "contractions.add(\"exec\", \"executive\")\n",
    "contractions.add(\"reg\", \"regulation\")\n",
    "contractions.add(\"std\", \"standard\")\n",
    "contractions.add(\"prog\", \"program\")\n",
    "\n"
   ]
  },
  {
   "cell_type": "code",
   "execution_count": 5,
   "metadata": {
    "execution": {
     "iopub.execute_input": "2025-04-06T14:52:16.566171Z",
     "iopub.status.busy": "2025-04-06T14:52:16.565856Z",
     "iopub.status.idle": "2025-04-06T14:52:16.570880Z",
     "shell.execute_reply": "2025-04-06T14:52:16.570002Z",
     "shell.execute_reply.started": "2025-04-06T14:52:16.566147Z"
    },
    "trusted": true
   },
   "outputs": [],
   "source": [
    "\n",
    "def expand_text(text):\n",
    "    return contractions.fix(text)\n",
    "\n",
    "def preprocess_text(text):\n",
    "    text = contractions.fix(text)\n",
    "    text = re.sub(r\"http\\S+|www\\S+|https\\S+\", \"\", text)  \n",
    "    text = re.sub(r\"[^A-Za-z0-9\\s]\", \"\", text)  \n",
    "    text = re.sub(r\"\\s+\", \" \", text)  \n",
    "    return text.strip().lower()"
   ]
  },
  {
   "cell_type": "code",
   "execution_count": 34,
   "metadata": {
    "execution": {
     "iopub.execute_input": "2025-04-06T14:52:20.312853Z",
     "iopub.status.busy": "2025-04-06T14:52:20.312541Z",
     "iopub.status.idle": "2025-04-06T14:52:20.492274Z",
     "shell.execute_reply": "2025-04-06T14:52:20.491402Z",
     "shell.execute_reply.started": "2025-04-06T14:52:20.312830Z"
    },
    "trusted": true
   },
   "outputs": [],
   "source": [
    "\n",
    "df['input'] = df['Social Media Post'].apply(preprocess_text)\n",
    "df['target'] = df['Normalized Claim'].apply(preprocess_text)"
   ]
  },
  {
   "cell_type": "code",
   "execution_count": 35,
   "metadata": {
    "execution": {
     "iopub.execute_input": "2025-04-06T14:52:23.239092Z",
     "iopub.status.busy": "2025-04-06T14:52:23.238767Z",
     "iopub.status.idle": "2025-04-06T14:52:23.251148Z",
     "shell.execute_reply": "2025-04-06T14:52:23.250493Z",
     "shell.execute_reply.started": "2025-04-06T14:52:23.239064Z"
    },
    "trusted": true
   },
   "outputs": [
    {
     "name": "stdout",
     "output_type": "stream",
     "text": [
      "Train Size: 1967, Validation Size: 422, Test Size: 422\n"
     ]
    }
   ],
   "source": [
    "from sklearn.model_selection import train_test_split\n",
    "\n",
    "train_df, temp_df = train_test_split(df, test_size=0.3, random_state=42)\n",
    "val_df, test_df = train_test_split(temp_df, test_size=0.5, random_state=42)\n",
    "\n",
    "print(f\"Train Size: {len(train_df)}, Validation Size: {len(val_df)}, Test Size: {len(test_df)}\")"
   ]
  },
  {
   "cell_type": "code",
   "execution_count": 36,
   "metadata": {
    "execution": {
     "iopub.execute_input": "2025-04-06T14:52:28.450357Z",
     "iopub.status.busy": "2025-04-06T14:52:28.450043Z",
     "iopub.status.idle": "2025-04-06T14:52:28.483574Z",
     "shell.execute_reply": "2025-04-06T14:52:28.482854Z",
     "shell.execute_reply.started": "2025-04-06T14:52:28.450312Z"
    },
    "trusted": true
   },
   "outputs": [],
   "source": [
    "# Convert to HuggingFace datasets\n",
    "from datasets import Dataset, DatasetDict\n",
    "\n",
    "dataset = DatasetDict({\n",
    "    'train': Dataset.from_pandas(train_df[['input', 'target']]),\n",
    "    'validation': Dataset.from_pandas(val_df[['input', 'target']]),\n",
    "    'test': Dataset.from_pandas(test_df[['input', 'target']])\n",
    "})\n"
   ]
  },
  {
   "cell_type": "code",
   "execution_count": 37,
   "metadata": {
    "execution": {
     "iopub.execute_input": "2025-04-06T14:52:31.197546Z",
     "iopub.status.busy": "2025-04-06T14:52:31.197217Z",
     "iopub.status.idle": "2025-04-06T14:52:38.054274Z",
     "shell.execute_reply": "2025-04-06T14:52:38.053181Z",
     "shell.execute_reply.started": "2025-04-06T14:52:31.197521Z"
    },
    "trusted": true
   },
   "outputs": [
    {
     "name": "stdout",
     "output_type": "stream",
     "text": [
      "Requirement already satisfied: evaluate in /usr/local/lib/python3.10/dist-packages (0.4.3)\n",
      "Requirement already satisfied: datasets>=2.0.0 in /usr/local/lib/python3.10/dist-packages (from evaluate) (3.3.1)\n",
      "Requirement already satisfied: numpy>=1.17 in /usr/local/lib/python3.10/dist-packages (from evaluate) (1.26.4)\n",
      "Requirement already satisfied: dill in /usr/local/lib/python3.10/dist-packages (from evaluate) (0.3.8)\n",
      "Requirement already satisfied: pandas in /usr/local/lib/python3.10/dist-packages (from evaluate) (2.2.3)\n",
      "Requirement already satisfied: requests>=2.19.0 in /usr/local/lib/python3.10/dist-packages (from evaluate) (2.32.3)\n",
      "Requirement already satisfied: tqdm>=4.62.1 in /usr/local/lib/python3.10/dist-packages (from evaluate) (4.67.1)\n",
      "Requirement already satisfied: xxhash in /usr/local/lib/python3.10/dist-packages (from evaluate) (3.5.0)\n",
      "Requirement already satisfied: multiprocess in /usr/local/lib/python3.10/dist-packages (from evaluate) (0.70.16)\n",
      "Requirement already satisfied: fsspec>=2021.05.0 in /usr/local/lib/python3.10/dist-packages (from fsspec[http]>=2021.05.0->evaluate) (2024.12.0)\n",
      "Requirement already satisfied: huggingface-hub>=0.7.0 in /usr/local/lib/python3.10/dist-packages (from evaluate) (0.29.0)\n",
      "Requirement already satisfied: packaging in /usr/local/lib/python3.10/dist-packages (from evaluate) (24.2)\n",
      "Requirement already satisfied: filelock in /usr/local/lib/python3.10/dist-packages (from datasets>=2.0.0->evaluate) (3.17.0)\n",
      "Requirement already satisfied: pyarrow>=15.0.0 in /usr/local/lib/python3.10/dist-packages (from datasets>=2.0.0->evaluate) (19.0.1)\n",
      "Requirement already satisfied: aiohttp in /usr/local/lib/python3.10/dist-packages (from datasets>=2.0.0->evaluate) (3.11.12)\n",
      "Requirement already satisfied: pyyaml>=5.1 in /usr/local/lib/python3.10/dist-packages (from datasets>=2.0.0->evaluate) (6.0.2)\n",
      "Requirement already satisfied: typing-extensions>=3.7.4.3 in /usr/local/lib/python3.10/dist-packages (from huggingface-hub>=0.7.0->evaluate) (4.12.2)\n",
      "Requirement already satisfied: mkl_fft in /usr/local/lib/python3.10/dist-packages (from numpy>=1.17->evaluate) (1.3.8)\n",
      "Requirement already satisfied: mkl_random in /usr/local/lib/python3.10/dist-packages (from numpy>=1.17->evaluate) (1.2.4)\n",
      "Requirement already satisfied: mkl_umath in /usr/local/lib/python3.10/dist-packages (from numpy>=1.17->evaluate) (0.1.1)\n",
      "Requirement already satisfied: mkl in /usr/local/lib/python3.10/dist-packages (from numpy>=1.17->evaluate) (2025.0.1)\n",
      "Requirement already satisfied: tbb4py in /usr/local/lib/python3.10/dist-packages (from numpy>=1.17->evaluate) (2022.0.0)\n",
      "Requirement already satisfied: mkl-service in /usr/local/lib/python3.10/dist-packages (from numpy>=1.17->evaluate) (2.4.1)\n",
      "Requirement already satisfied: charset-normalizer<4,>=2 in /usr/local/lib/python3.10/dist-packages (from requests>=2.19.0->evaluate) (3.4.1)\n",
      "Requirement already satisfied: idna<4,>=2.5 in /usr/local/lib/python3.10/dist-packages (from requests>=2.19.0->evaluate) (3.10)\n",
      "Requirement already satisfied: urllib3<3,>=1.21.1 in /usr/local/lib/python3.10/dist-packages (from requests>=2.19.0->evaluate) (2.3.0)\n",
      "Requirement already satisfied: certifi>=2017.4.17 in /usr/local/lib/python3.10/dist-packages (from requests>=2.19.0->evaluate) (2025.1.31)\n",
      "Requirement already satisfied: python-dateutil>=2.8.2 in /usr/local/lib/python3.10/dist-packages (from pandas->evaluate) (2.9.0.post0)\n",
      "Requirement already satisfied: pytz>=2020.1 in /usr/local/lib/python3.10/dist-packages (from pandas->evaluate) (2025.1)\n",
      "Requirement already satisfied: tzdata>=2022.7 in /usr/local/lib/python3.10/dist-packages (from pandas->evaluate) (2025.1)\n",
      "Requirement already satisfied: aiohappyeyeballs>=2.3.0 in /usr/local/lib/python3.10/dist-packages (from aiohttp->datasets>=2.0.0->evaluate) (2.4.6)\n",
      "Requirement already satisfied: aiosignal>=1.1.2 in /usr/local/lib/python3.10/dist-packages (from aiohttp->datasets>=2.0.0->evaluate) (1.3.2)\n",
      "Requirement already satisfied: async-timeout<6.0,>=4.0 in /usr/local/lib/python3.10/dist-packages (from aiohttp->datasets>=2.0.0->evaluate) (5.0.1)\n",
      "Requirement already satisfied: attrs>=17.3.0 in /usr/local/lib/python3.10/dist-packages (from aiohttp->datasets>=2.0.0->evaluate) (25.1.0)\n",
      "Requirement already satisfied: frozenlist>=1.1.1 in /usr/local/lib/python3.10/dist-packages (from aiohttp->datasets>=2.0.0->evaluate) (1.5.0)\n",
      "Requirement already satisfied: multidict<7.0,>=4.5 in /usr/local/lib/python3.10/dist-packages (from aiohttp->datasets>=2.0.0->evaluate) (6.1.0)\n",
      "Requirement already satisfied: propcache>=0.2.0 in /usr/local/lib/python3.10/dist-packages (from aiohttp->datasets>=2.0.0->evaluate) (0.2.1)\n",
      "Requirement already satisfied: yarl<2.0,>=1.17.0 in /usr/local/lib/python3.10/dist-packages (from aiohttp->datasets>=2.0.0->evaluate) (1.18.3)\n",
      "Requirement already satisfied: six>=1.5 in /usr/local/lib/python3.10/dist-packages (from python-dateutil>=2.8.2->pandas->evaluate) (1.17.0)\n",
      "Requirement already satisfied: intel-openmp>=2024 in /usr/local/lib/python3.10/dist-packages (from mkl->numpy>=1.17->evaluate) (2024.2.0)\n",
      "Requirement already satisfied: tbb==2022.* in /usr/local/lib/python3.10/dist-packages (from mkl->numpy>=1.17->evaluate) (2022.0.0)\n",
      "Requirement already satisfied: tcmlib==1.* in /usr/local/lib/python3.10/dist-packages (from tbb==2022.*->mkl->numpy>=1.17->evaluate) (1.2.0)\n",
      "Requirement already satisfied: intel-cmplr-lib-rt in /usr/local/lib/python3.10/dist-packages (from mkl_umath->numpy>=1.17->evaluate) (2024.2.0)\n",
      "Requirement already satisfied: intel-cmplr-lib-ur==2024.2.0 in /usr/local/lib/python3.10/dist-packages (from intel-openmp>=2024->mkl->numpy>=1.17->evaluate) (2024.2.0)\n"
     ]
    }
   ],
   "source": [
    "\n",
    "!pip install evaluate\n",
    "!pip install rouge-score bert-score --quiet"
   ]
  },
  {
   "cell_type": "code",
   "execution_count": 38,
   "metadata": {
    "execution": {
     "iopub.execute_input": "2025-04-06T14:52:41.678088Z",
     "iopub.status.busy": "2025-04-06T14:52:41.677747Z",
     "iopub.status.idle": "2025-04-06T14:52:53.831207Z",
     "shell.execute_reply": "2025-04-06T14:52:53.829973Z",
     "shell.execute_reply.started": "2025-04-06T14:52:41.678060Z"
    },
    "trusted": true
   },
   "outputs": [
    {
     "data": {
      "application/vnd.jupyter.widget-view+json": {
       "model_id": "a7cb3cf123aa4be6b2ba192ede3e6a8d",
       "version_major": 2,
       "version_minor": 0
      },
      "text/plain": [
       "tokenizer_config.json:   0%|          | 0.00/26.0 [00:00<?, ?B/s]"
      ]
     },
     "metadata": {},
     "output_type": "display_data"
    },
    {
     "data": {
      "application/vnd.jupyter.widget-view+json": {
       "model_id": "4cf3b71967e94c7085f59f0f4c03bedf",
       "version_major": 2,
       "version_minor": 0
      },
      "text/plain": [
       "config.json:   0%|          | 0.00/1.63k [00:00<?, ?B/s]"
      ]
     },
     "metadata": {},
     "output_type": "display_data"
    },
    {
     "data": {
      "application/vnd.jupyter.widget-view+json": {
       "model_id": "ee3d1f17613e491dad87b60c796457ef",
       "version_major": 2,
       "version_minor": 0
      },
      "text/plain": [
       "vocab.json:   0%|          | 0.00/899k [00:00<?, ?B/s]"
      ]
     },
     "metadata": {},
     "output_type": "display_data"
    },
    {
     "data": {
      "application/vnd.jupyter.widget-view+json": {
       "model_id": "d00b7610b84446218e7370c367ba2964",
       "version_major": 2,
       "version_minor": 0
      },
      "text/plain": [
       "merges.txt:   0%|          | 0.00/456k [00:00<?, ?B/s]"
      ]
     },
     "metadata": {},
     "output_type": "display_data"
    },
    {
     "data": {
      "application/vnd.jupyter.widget-view+json": {
       "model_id": "dd7eae58ca304f38882872fc64c6dca8",
       "version_major": 2,
       "version_minor": 0
      },
      "text/plain": [
       "tokenizer.json:   0%|          | 0.00/1.36M [00:00<?, ?B/s]"
      ]
     },
     "metadata": {},
     "output_type": "display_data"
    },
    {
     "data": {
      "application/vnd.jupyter.widget-view+json": {
       "model_id": "f98d5b1008284909bb8e739b61b9e8fe",
       "version_major": 2,
       "version_minor": 0
      },
      "text/plain": [
       "pytorch_model.bin:   0%|          | 0.00/1.02G [00:00<?, ?B/s]"
      ]
     },
     "metadata": {},
     "output_type": "display_data"
    }
   ],
   "source": [
    "\n",
    "from transformers import AutoTokenizer, AutoModelForSeq2SeqLM, Seq2SeqTrainer, Seq2SeqTrainingArguments, DataCollatorForSeq2Seq\n",
    "\n",
    "model_name = \"facebook/bart-large\" \n",
    "tokenizer = AutoTokenizer.from_pretrained(model_name)\n",
    "model = AutoModelForSeq2SeqLM.from_pretrained(model_name)"
   ]
  },
  {
   "cell_type": "code",
   "execution_count": 39,
   "metadata": {
    "execution": {
     "iopub.execute_input": "2025-04-06T14:52:53.833710Z",
     "iopub.status.busy": "2025-04-06T14:52:53.833421Z",
     "iopub.status.idle": "2025-04-06T14:52:54.956193Z",
     "shell.execute_reply": "2025-04-06T14:52:54.955300Z",
     "shell.execute_reply.started": "2025-04-06T14:52:53.833684Z"
    },
    "trusted": true
   },
   "outputs": [
    {
     "data": {
      "application/vnd.jupyter.widget-view+json": {
       "model_id": "238783207c6a46ebb534c272f917cf34",
       "version_major": 2,
       "version_minor": 0
      },
      "text/plain": [
       "Map:   0%|          | 0/1967 [00:00<?, ? examples/s]"
      ]
     },
     "metadata": {},
     "output_type": "display_data"
    },
    {
     "data": {
      "application/vnd.jupyter.widget-view+json": {
       "model_id": "b00e4abf30d6438f86f9eca61fc2672f",
       "version_major": 2,
       "version_minor": 0
      },
      "text/plain": [
       "Map:   0%|          | 0/422 [00:00<?, ? examples/s]"
      ]
     },
     "metadata": {},
     "output_type": "display_data"
    },
    {
     "data": {
      "application/vnd.jupyter.widget-view+json": {
       "model_id": "a9750d1b8c734ff4a22b3138f7bc36ea",
       "version_major": 2,
       "version_minor": 0
      },
      "text/plain": [
       "Map:   0%|          | 0/422 [00:00<?, ? examples/s]"
      ]
     },
     "metadata": {},
     "output_type": "display_data"
    }
   ],
   "source": [
    "\n",
    "def tokenize_function(examples):\n",
    "    model_inputs = tokenizer(examples[\"input\"], max_length=512, truncation=True, padding=\"max_length\")\n",
    "    labels = tokenizer(examples[\"target\"], max_length=128, truncation=True, padding=\"max_length\")\n",
    "    model_inputs[\"labels\"] = labels[\"input_ids\"]\n",
    "    return model_inputs\n",
    "\n",
    "tokenized_datasets = dataset.map(tokenize_function, batched=True)"
   ]
  },
  {
   "cell_type": "code",
   "execution_count": 40,
   "metadata": {
    "execution": {
     "iopub.execute_input": "2025-04-06T14:52:56.169342Z",
     "iopub.status.busy": "2025-04-06T14:52:56.168998Z",
     "iopub.status.idle": "2025-04-06T15:24:01.031762Z",
     "shell.execute_reply": "2025-04-06T15:24:01.030915Z",
     "shell.execute_reply.started": "2025-04-06T14:52:56.169291Z"
    },
    "trusted": true
   },
   "outputs": [
    {
     "name": "stderr",
     "output_type": "stream",
     "text": [
      "/usr/local/lib/python3.10/dist-packages/transformers/training_args.py:1575: FutureWarning: `evaluation_strategy` is deprecated and will be removed in version 4.46 of 🤗 Transformers. Use `eval_strategy` instead\n",
      "  warnings.warn(\n",
      "<ipython-input-40-70c3e405387d>:17: FutureWarning: `tokenizer` is deprecated and will be removed in version 5.0.0 for `Seq2SeqTrainer.__init__`. Use `processing_class` instead.\n",
      "  trainer = Seq2SeqTrainer(\n"
     ]
    },
    {
     "data": {
      "text/html": [
       "\n",
       "    <div>\n",
       "      \n",
       "      <progress value='1476' max='1476' style='width:300px; height:20px; vertical-align: middle;'></progress>\n",
       "      [1476/1476 31:02, Epoch 6/6]\n",
       "    </div>\n",
       "    <table border=\"1\" class=\"dataframe\">\n",
       "  <thead>\n",
       " <tr style=\"text-align: left;\">\n",
       "      <th>Epoch</th>\n",
       "      <th>Training Loss</th>\n",
       "      <th>Validation Loss</th>\n",
       "    </tr>\n",
       "  </thead>\n",
       "  <tbody>\n",
       "    <tr>\n",
       "      <td>1</td>\n",
       "      <td>3.869000</td>\n",
       "      <td>0.487490</td>\n",
       "    </tr>\n",
       "    <tr>\n",
       "      <td>2</td>\n",
       "      <td>0.433700</td>\n",
       "      <td>0.404125</td>\n",
       "    </tr>\n",
       "    <tr>\n",
       "      <td>3</td>\n",
       "      <td>0.338400</td>\n",
       "      <td>0.396250</td>\n",
       "    </tr>\n",
       "    <tr>\n",
       "      <td>4</td>\n",
       "      <td>0.277400</td>\n",
       "      <td>0.397657</td>\n",
       "    </tr>\n",
       "    <tr>\n",
       "      <td>5</td>\n",
       "      <td>0.249800</td>\n",
       "      <td>0.399134</td>\n",
       "    </tr>\n",
       "    <tr>\n",
       "      <td>6</td>\n",
       "      <td>0.224500</td>\n",
       "      <td>0.403690</td>\n",
       "    </tr>\n",
       "  </tbody>\n",
       "</table><p>"
      ],
      "text/plain": [
       "<IPython.core.display.HTML object>"
      ]
     },
     "metadata": {},
     "output_type": "display_data"
    },
    {
     "name": "stderr",
     "output_type": "stream",
     "text": [
      "/usr/local/lib/python3.10/dist-packages/transformers/modeling_utils.py:2817: UserWarning: Moving the following attributes in the config to the generation config: {'early_stopping': True, 'num_beams': 4, 'no_repeat_ngram_size': 3, 'forced_bos_token_id': 0}. You are seeing this warning because you've set generation parameters in the model config, as opposed to in the generation config.\n",
      "  warnings.warn(\n"
     ]
    },
    {
     "data": {
      "text/plain": [
       "TrainOutput(global_step=1476, training_loss=0.89881903950761, metrics={'train_runtime': 1863.4565, 'train_samples_per_second': 6.333, 'train_steps_per_second': 0.792, 'total_flos': 1.2788084257062912e+16, 'train_loss': 0.89881903950761, 'epoch': 6.0})"
      ]
     },
     "execution_count": 40,
     "metadata": {},
     "output_type": "execute_result"
    }
   ],
   "source": [
    "\n",
    "training_args = Seq2SeqTrainingArguments(\n",
    "    output_dir=\"./results\",\n",
    "    evaluation_strategy=\"epoch\",\n",
    "    save_strategy=\"epoch\",\n",
    "    learning_rate=2e-5,\n",
    "    per_device_train_batch_size=8,\n",
    "    per_device_eval_batch_size=8,\n",
    "    num_train_epochs=6,\n",
    "    weight_decay=0.01,\n",
    "    save_total_limit=1,\n",
    "    logging_dir=\"./logs\",\n",
    "    logging_strategy=\"epoch\",\n",
    "    report_to=\"none\"\n",
    ")\n",
    "\n",
    "data_collator = DataCollatorForSeq2Seq(tokenizer, model=model)\n",
    "trainer = Seq2SeqTrainer(\n",
    "    model=model,\n",
    "    args=training_args,\n",
    "    train_dataset=tokenized_datasets[\"train\"],\n",
    "    eval_dataset=tokenized_datasets[\"validation\"],\n",
    "    tokenizer=tokenizer,\n",
    "    data_collator=data_collator,\n",
    ")\n",
    "\n",
    "trainer.train()"
   ]
  },
  {
   "cell_type": "code",
   "execution_count": 41,
   "metadata": {
    "execution": {
     "iopub.execute_input": "2025-04-06T15:24:01.032983Z",
     "iopub.status.busy": "2025-04-06T15:24:01.032694Z",
     "iopub.status.idle": "2025-04-06T15:24:01.377214Z",
     "shell.execute_reply": "2025-04-06T15:24:01.376204Z",
     "shell.execute_reply.started": "2025-04-06T15:24:01.032957Z"
    },
    "trusted": true
   },
   "outputs": [
    {
     "data": {
      "image/png": "[encoded data removed]",
      "text/plain": [
       "<Figure size 1000x600 with 1 Axes>"
      ]
     },
     "metadata": {},
     "output_type": "display_data"
    }
   ],
   "source": [
    "import matplotlib.pyplot as plt\n",
    "\n",
    "log_history = trainer.state.log_history\n",
    "\n",
    "train_loss = []\n",
    "val_loss = []\n",
    "epochs = []\n",
    "\n",
    "for log in log_history:\n",
    "    if \"loss\" in log and \"epoch\" in log:  \n",
    "        train_loss.append(log[\"loss\"])\n",
    "        if log[\"epoch\"] not in epochs:  \n",
    "            epochs.append(log[\"epoch\"])\n",
    "    if \"eval_loss\" in log and \"epoch\" in log: \n",
    "        val_loss.append(log[\"eval_loss\"])\n",
    "\n",
    "min_length = min(len(train_loss), len(val_loss))\n",
    "trainにloss = train_loss[:min_length]\n",
    "val_loss = val_loss[:min_length]\n",
    "epochs = epochs[:min_length]\n",
    "\n",
    "plt.figure(figsize=(10, 6))\n",
    "plt.plot(epochs, train_loss, label=\"Training Loss\", marker=\"o\")\n",
    "plt.plot(epochs, val_loss, label=\"Validation Loss\", marker=\"o\")\n",
    "plt.xlabel(\"Epoch\")\n",
    "plt.ylabel(\"Loss\")\n",
    "plt.title(\"Training and Validation Loss Over Epochs\")\n",
    "plt.legend()\n",
    "plt.grid(True)\n",
    "plt.savefig(\"losses Bart\")\n",
    "plt.show()"
   ]
  },
  {
   "cell_type": "code",
   "execution_count": 42,
   "metadata": {
    "execution": {
     "iopub.execute_input": "2025-04-06T15:24:01.379209Z",
     "iopub.status.busy": "2025-04-06T15:24:01.378936Z",
     "iopub.status.idle": "2025-04-06T15:24:01.966833Z",
     "shell.execute_reply": "2025-04-06T15:24:01.965829Z",
     "shell.execute_reply.started": "2025-04-06T15:24:01.379186Z"
    },
    "trusted": true
   },
   "outputs": [],
   "source": [
    "\n",
    "def generate_predictions(dataset, batch_size=8):\n",
    "    preds = []\n",
    "    model.eval()\n",
    "    for i in range(0, len(dataset), batch_size):\n",
    "        batch_inputs = dataset[\"input\"][i:i+batch_size]\n",
    "        encoded = tokenizer(batch_inputs, return_tensors=\"pt\", padding=True, truncation=True, max_length=128).to(model.device)\n",
    "        with torch.no_grad():\n",
    "            outputs = model.generate(**encoded, max_length=128)\n",
    "        decoded = tokenizer.batch_decode(outputs, skip_special_tokens=True)\n",
    "        preds.extend(decoded)\n",
    "    return preds"
   ]
  },
  {
   "cell_type": "code",
   "execution_count": 45,
   "metadata": {
    "execution": {
     "iopub.execute_input": "2025-04-06T15:25:07.067197Z",
     "iopub.status.busy": "2025-04-06T15:25:07.066767Z",
     "iopub.status.idle": "2025-04-06T15:26:00.792519Z",
     "shell.execute_reply": "2025-04-06T15:26:00.791831Z",
     "shell.execute_reply.started": "2025-04-06T15:25:07.067164Z"
    },
    "trusted": true
   },
   "outputs": [],
   "source": [
    "# Get predictions and references\n",
    "test_data = dataset[\"test\"]\n",
    "test_preds = generate_predictions(test_data)\n",
    "test_refs = [x.lower() for x in test_data[\"target\"]]\n"
   ]
  },
  {
   "cell_type": "code",
   "execution_count": 46,
   "metadata": {
    "execution": {
     "iopub.execute_input": "2025-04-06T15:26:00.793821Z",
     "iopub.status.busy": "2025-04-06T15:26:00.793572Z",
     "iopub.status.idle": "2025-04-06T15:26:05.293630Z",
     "shell.execute_reply": "2025-04-06T15:26:05.292760Z",
     "shell.execute_reply.started": "2025-04-06T15:26:00.793800Z"
    },
    "trusted": true
   },
   "outputs": [
    {
     "name": "stderr",
     "output_type": "stream",
     "text": [
      "Some weights of RobertaModel were not initialized from the model checkpoint at roberta-large and are newly initialized: ['roberta.pooler.dense.bias', 'roberta.pooler.dense.weight']\n",
      "You should probably TRAIN this model on a down-stream task to be able to use it for predictions and inference.\n",
      "Warning: Empty reference sentence detected; setting raw BERTScores to 0.\n"
     ]
    },
    {
     "name": "stdout",
     "output_type": "stream",
     "text": [
      "ROUGE-L Precision: 0.4176\n",
      "ROUGE-L Recall: 0.3757\n",
      "ROUGE-L F1: 0.3715\n",
      "BERTScore F1: 0.8811\n",
      "BLEU-4: 0.2452\n"
     ]
    }
   ],
   "source": [
    "# ROUGE-L Evaluation\n",
    "from rouge_score import rouge_scorer\n",
    "import numpy as np\n",
    "\n",
    "scorer = rouge_scorer.RougeScorer([\"rougeL\"], use_stemmer=True)\n",
    "precisions, recalls, f1s = [], [], []\n",
    "\n",
    "for pred, ref in zip(test_preds, test_refs):\n",
    "    score = scorer.score(ref, pred)[\"rougeL\"]\n",
    "    precisions.append(score.precision)\n",
    "    recalls.append(score.recall)\n",
    "    f1s.append(score.fmeasure)\n",
    "\n",
    "rougeL_results = {\n",
    "    \"ROUGE-L Precision\": np.mean(precisions),\n",
    "    \"ROUGE-L Recall\": np.mean(recalls),\n",
    "    \"ROUGE-L F1\": np.mean(f1s),\n",
    "}\n",
    "\n",
    "# BERTScore Evaluation\n",
    "import bert_score\n",
    "\n",
    "_, _, F1 = bert_score.score(test_preds, test_refs, lang=\"en\", rescale_with_baseline=False)\n",
    "bert_f1 = F1.mean().item()\n",
    "\n",
    "# BLEU-4 Evaluation\n",
    "import evaluate\n",
    "\n",
    "bleu = evaluate.load(\"bleu\")\n",
    "bleu_result = bleu.compute(predictions=test_preds, references=[[ref] for ref in test_refs], max_order=4)\n",
    "bleu_score = bleu_result[\"bleu\"]\n",
    "\n",
    "# Print all metrics\n",
    "for k, v in rougeL_results.items():\n",
    "    print(f\"{k}: {v:.4f}\")\n",
    "print(f\"BERTScore F1: {bert_f1:.4f}\")\n",
    "print(f\"BLEU-4: {bleu_score:.4f}\")"
   ]
  },
  {
   "cell_type": "code",
   "execution_count": 47,
   "metadata": {
    "execution": {
     "iopub.execute_input": "2025-04-06T15:26:10.349742Z",
     "iopub.status.busy": "2025-04-06T15:26:10.349411Z",
     "iopub.status.idle": "2025-04-06T15:26:13.439590Z",
     "shell.execute_reply": "2025-04-06T15:26:13.438868Z",
     "shell.execute_reply.started": "2025-04-06T15:26:10.349712Z"
    },
    "trusted": true
   },
   "outputs": [
    {
     "name": "stdout",
     "output_type": "stream",
     "text": [
      "Model and tokenizer saved to ./saved_model/bart\n"
     ]
    }
   ],
   "source": [
    "# Save the trained model and tokenizer\n",
    "output_model_dir = \"./saved_model/bart\"  # Specify the directory where you want to save the model\n",
    "trainer.save_model(output_model_dir)  # Saves the model weights and configuration\n",
    "tokenizer.save_pretrained(output_model_dir)  # Saves the tokenizer\n",
    "print(f\"Model and tokenizer saved to {output_model_dir}\")"
   ]
  },
  {
   "cell_type": "code",
   "execution_count": null,
   "metadata": {
    "trusted": true
   },
   "outputs": [],
   "source": []
  },
  {
   "cell_type": "markdown",
   "metadata": {},
   "source": [
    "# Load Model"
   ]
  },
  {
   "cell_type": "code",
   "execution_count": 6,
   "metadata": {
    "trusted": true
   },
   "outputs": [
    {
     "name": "stdout",
     "output_type": "stream",
     "text": [
      "Model and tokenizer loaded from saved_model/bart/\n",
      "Test data loaded from CLAN_data.csv\n",
      "Generating predictions...\n",
      "Processing batch 1/6\n",
      "Processing batch 2/6\n",
      "Processing batch 3/6\n",
      "Processing batch 4/6\n",
      "Processing batch 5/6\n",
      "Processing batch 6/6\n",
      "Predictions saved to ./test_predictions_with_metrics.csv\n"
     ]
    }
   ],
   "source": [
    "\n",
    "import torch\n",
    "import pandas as pd\n",
    "from transformers import AutoTokenizer, AutoModelForSeq2SeqLM\n",
    "import contractions\n",
    "import re\n",
    "import numpy as np\n",
    "from rouge_score import rouge_scorer\n",
    "import bert_score\n",
    "import evaluate\n",
    "\n",
    "\n",
    "\n",
    "# Load the saved model and tokenizer\n",
    "\n",
    "output_model_dir = \"saved_model/bart/\"  \n",
    "tokenizer = AutoTokenizer.from_pretrained(output_model_dir)\n",
    "model = AutoModelForSeq2SeqLM.from_pretrained(output_model_dir)\n",
    "print(\"Model and tokenizer loaded from\", output_model_dir)\n",
    "\n",
    "device = torch.device(\"cuda\" if torch.cuda.is_available() else \"cpu\")\n",
    "model.to(device)\n",
    "model.eval() \n",
    "\n",
    "test_file_path = \"CLAN_data.csv\"  \n",
    "test_df = pd.read_csv(test_file_path)\n",
    "print(\"Test data loaded from\", test_file_path)\n",
    "\n",
    "# Preprocess the test data\n",
    "test_df['input'] = test_df['Social Media Post'].apply(preprocess_text)  \n",
    "test_df['target'] = test_df['Normalized Claim'].apply(preprocess_text) \n",
    "\n",
    "\n",
    "def generate_predictions(inputs, batch_size=8, max_length=128):\n",
    "    predictions = []\n",
    "    model.eval()\n",
    "    for i in range(0, len(inputs), batch_size):\n",
    "        print(f\"Processing batch {i // batch_size + 1}/{len(inputs) // batch_size + 1}\")\n",
    "        batch_inputs = inputs[i:i + batch_size]  # Slice the list directly\n",
    "        encoded = tokenizer(batch_inputs, return_tensors=\"pt\", padding=True, truncation=True, max_length=max_length).to(device)\n",
    "        with torch.no_grad():\n",
    "            outputs = model.generate(**encoded, max_length=max_length)\n",
    "        decoded = tokenizer.batch_decode(outputs, skip_special_tokens=True)\n",
    "        predictions.extend(decoded)\n",
    "    return predictions\n",
    "\n",
    "\n",
    "\n",
    "# Get the test inputs and references\n",
    "test_inputs = test_df['input'].tolist()\n",
    "test_refs = test_df['target'].tolist()\n",
    "\n",
    "# Generate predictions\n",
    "print(\"Generating predictions...\")\n",
    "test_predictions = generate_predictions(test_inputs)\n",
    "\n",
    "# Add predictions to the DataFrame\n",
    "test_df['predicted_output'] = test_predictions\n",
    "\n",
    "# Save the results to a new CSV file\n",
    "output_file_path = \"./test_predictions_with_metrics.csv\"\n",
    "test_df.to_csv(output_file_path, index=False)\n",
    "print(f\"Predictions saved to {output_file_path}\")\n",
    "\n",
    "\n",
    "# Display examples\n",
    "# print(\"\\nSample Predictions:\")\n",
    "# for i in range(min(5, len(test_df))): \n",
    "#     print(f\"Input: {test_df['input'].iloc[i]}\")\n",
    "#     print(f\"Prediction: {test_df['predicted_output'].iloc[i]}\")\n",
    "#     print(f\"Reference: {test_df['target'].iloc[i]}\\n\")\n",
    "\n",
    "\n",
    "\n",
    "\n"
   ]
  },
  {
   "cell_type": "code",
   "execution_count": 7,
   "metadata": {
    "trusted": true
   },
   "outputs": [
    {
     "name": "stderr",
     "output_type": "stream",
     "text": [
      "Some weights of RobertaModel were not initialized from the model checkpoint at roberta-large and are newly initialized: ['roberta.pooler.dense.bias', 'roberta.pooler.dense.weight']\n",
      "You should probably TRAIN this model on a down-stream task to be able to use it for predictions and inference.\n"
     ]
    },
    {
     "name": "stdout",
     "output_type": "stream",
     "text": [
      "Evaluation Metrics:\n",
      "ROUGE-L Precision: 0.4804\n",
      "ROUGE-L Recall: 0.4639\n",
      "ROUGE-L F1: 0.4561\n",
      "BERTScore F1: 0.9037\n",
      "BLEU-4: 0.3426\n"
     ]
    }
   ],
   "source": [
    "# ROUGE-L Evaluation\n",
    "scorer = rouge_scorer.RougeScorer([\"rougeL\"], use_stemmer=True)\n",
    "precisions, recalls, f1s = [], [], []\n",
    "\n",
    "for pred, ref in zip(test_predictions, test_refs):\n",
    "    score = scorer.score(ref, pred)[\"rougeL\"]\n",
    "    precisions.append(score.precision)\n",
    "    recalls.append(score.recall)\n",
    "    f1s.append(score.fmeasure)\n",
    "\n",
    "rougeL_results = {\n",
    "    \"ROUGE-L Precision\": np.mean(precisions),\n",
    "    \"ROUGE-L Recall\": np.mean(recalls),\n",
    "    \"ROUGE-L F1\": np.mean(f1s),\n",
    "}\n",
    "\n",
    "# BERTScore Evaluation\n",
    "\n",
    "_, _, F1 = bert_score.score(test_predictions, test_refs, lang=\"en\", rescale_with_baseline=False)\n",
    "bert_f1 = F1.mean().item()\n",
    "\n",
    "# BLEU-4 Evaluation\n",
    "bleu = evaluate.load(\"bleu\")\n",
    "bleu_result = bleu.compute(predictions=test_predictions, references=[[ref] for ref in test_refs], max_order=4)\n",
    "bleu_score = bleu_result[\"bleu\"]\n",
    "\n",
    "# Print all metrics\n",
    "print(\"Evaluation Metrics:\")\n",
    "for k, v in rougeL_results.items():\n",
    "    print(f\"{k}: {v:.4f}\")\n",
    "print(f\"BERTScore F1: {bert_f1:.4f}\")\n",
    "print(f\"BLEU-4: {bleu_score:.4f}\")"
   ]
  },
  {
   "cell_type": "code",
   "execution_count": null,
   "metadata": {
    "execution": {
     "iopub.execute_input": "2025-04-06T15:43:54.589673Z",
     "iopub.status.busy": "2025-04-06T15:43:54.589285Z",
     "iopub.status.idle": "2025-04-06T15:43:54.595806Z",
     "shell.execute_reply": "2025-04-06T15:43:54.594760Z",
     "shell.execute_reply.started": "2025-04-06T15:43:54.589644Z"
    },
    "trusted": true
   },
   "outputs": [
    {
     "name": "stdout",
     "output_type": "stream",
     "text": [
      "/kaggle/working\n"
     ]
    }
   ],
   "source": [
    "# %cd /kaggle/working"
   ]
  },
  {
   "cell_type": "code",
   "execution_count": null,
   "metadata": {
    "execution": {
     "iopub.execute_input": "2025-04-06T15:46:26.432891Z",
     "iopub.status.busy": "2025-04-06T15:46:26.432562Z",
     "iopub.status.idle": "2025-04-06T15:46:26.438075Z",
     "shell.execute_reply": "2025-04-06T15:46:26.437387Z",
     "shell.execute_reply.started": "2025-04-06T15:46:26.432866Z"
    },
    "trusted": true
   },
   "outputs": [
    {
     "data": {
      "text/html": [
       "<a href='model.zip' target='_blank'>model.zip</a><br>"
      ],
      "text/plain": [
       "/kaggle/working/model.zip"
      ]
     },
     "execution_count": 55,
     "metadata": {},
     "output_type": "execute_result"
    }
   ],
   "source": [
    "# from IPython.display import FileLink\n",
    "\n",
    "# FileLink(r'model.zip')\n"
   ]
  },
  {
   "cell_type": "code",
   "execution_count": null,
   "metadata": {
    "trusted": true
   },
   "outputs": [],
   "source": []
  }
 ],
 "metadata": {
  "kaggle": {
   "accelerator": "gpu",
   "dataSources": [
    {
     "datasetId": 7032642,
     "sourceId": 11253630,
     "sourceType": "datasetVersion"
    }
   ],
   "dockerImageVersionId": 30919,
   "isGpuEnabled": true,
   "isInternetEnabled": true,
   "language": "python",
   "sourceType": "notebook"
  },
  "kernelspec": {
   "display_name": "Python 3",
   "language": "python",
   "name": "python3"
  },
  "language_info": {
   "codemirror_mode": {
    "name": "ipython",
    "version": 3
   },
   "file_extension": ".py",
   "mimetype": "text/x-python",
   "name": "python",
   "nbconvert_exporter": "python",
   "pygments_lexer": "ipython3",
   "version": "3.11.9"
  }
 },
 "nbformat": 4,
 "nbformat_minor": 4
}
