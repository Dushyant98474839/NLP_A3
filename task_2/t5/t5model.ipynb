{
 "cells": [
  {
   "cell_type": "code",
   "execution_count": null,
   "metadata": {
    "_cell_guid": "b1076dfc-b9ad-4769-8c92-a6c4dae69d19",
    "_uuid": "8f2839f25d086af736a60e9eeb907d3b93b6e0e5",
    "execution": {
     "iopub.execute_input": "2025-04-06T13:29:22.895713Z",
     "iopub.status.busy": "2025-04-06T13:29:22.895342Z",
     "iopub.status.idle": "2025-04-06T13:29:22.926129Z",
     "shell.execute_reply": "2025-04-06T13:29:22.925259Z",
     "shell.execute_reply.started": "2025-04-06T13:29:22.895687Z"
    },
    "trusted": true
   },
   "outputs": [
    {
     "name": "stdout",
     "output_type": "stream",
     "text": [
      "GPU Available: False\n",
      "Device: CPU\n"
     ]
    }
   ],
   "source": [
    "import torch\n",
    "print(\"GPU Available:\", torch.cuda.is_available())\n",
    "print(\"Device:\", torch.cuda.get_device_name(0) if torch.cuda.is_available() else \"CPU\")\n",
    "\n",
    "import pandas as pd\n",
    "df = pd.read_csv(\"/kaggle/input/clan-dataset/CLAN_data - CLAN_data.csv\")"
   ]
  },
  {
   "cell_type": "code",
   "execution_count": 4,
   "metadata": {
    "execution": {
     "iopub.execute_input": "2025-04-06T13:29:25.932617Z",
     "iopub.status.busy": "2025-04-06T13:29:25.932269Z",
     "iopub.status.idle": "2025-04-06T13:29:29.288823Z",
     "shell.execute_reply": "2025-04-06T13:29:29.287954Z",
     "shell.execute_reply.started": "2025-04-06T13:29:25.932593Z"
    },
    "trusted": true
   },
   "outputs": [
    {
     "name": "stdout",
     "output_type": "stream",
     "text": [
      "Requirement already satisfied: contractions in c:\\users\\acer\\appdata\\local\\packages\\pythonsoftwarefoundation.python.3.11_qbz5n2kfra8p0\\localcache\\local-packages\\python311\\site-packages (0.1.73)\n",
      "Requirement already satisfied: textsearch>=0.0.21 in c:\\users\\acer\\appdata\\local\\packages\\pythonsoftwarefoundation.python.3.11_qbz5n2kfra8p0\\localcache\\local-packages\\python311\\site-packages (from contractions) (0.0.24)\n",
      "Requirement already satisfied: anyascii in c:\\users\\acer\\appdata\\local\\packages\\pythonsoftwarefoundation.python.3.11_qbz5n2kfra8p0\\localcache\\local-packages\\python311\\site-packages (from textsearch>=0.0.21->contractions) (0.3.2)\n",
      "Requirement already satisfied: pyahocorasick in c:\\users\\acer\\appdata\\local\\packages\\pythonsoftwarefoundation.python.3.11_qbz5n2kfra8p0\\localcache\\local-packages\\python311\\site-packages (from textsearch>=0.0.21->contractions) (2.1.0)\n"
     ]
    },
    {
     "name": "stderr",
     "output_type": "stream",
     "text": [
      "\n",
      "[notice] A new release of pip is available: 24.3.1 -> 25.0.1\n",
      "[notice] To update, run: C:\\Users\\acer\\AppData\\Local\\Microsoft\\WindowsApps\\PythonSoftwareFoundation.Python.3.11_qbz5n2kfra8p0\\python.exe -m pip install --upgrade pip\n"
     ]
    }
   ],
   "source": [
    "\n",
    "!pip install contractions\n",
    "# import contractions\n",
    "import re"
   ]
  },
  {
   "cell_type": "code",
   "execution_count": 5,
   "metadata": {
    "execution": {
     "iopub.execute_input": "2025-04-06T13:29:29.290864Z",
     "iopub.status.busy": "2025-04-06T13:29:29.290525Z",
     "iopub.status.idle": "2025-04-06T13:29:29.323254Z",
     "shell.execute_reply": "2025-04-06T13:29:29.322301Z",
     "shell.execute_reply.started": "2025-04-06T13:29:29.290832Z"
    },
    "jupyter": {
     "source_hidden": true
    },
    "trusted": true
   },
   "outputs": [],
   "source": [
    "import contractions\n",
    "import re\n",
    "\n",
    "# abbreviations = {\n",
    "#     \"gov.\": \"governor\",\n",
    "#     \"feb.\": \"february\",\n",
    "#     \"vp\": \"vice president\",\n",
    "#     \"eta\": \"estimated time of arrival\"\n",
    "# }\n",
    "\n",
    "\n",
    "\n",
    "contractions.add(\"gov.\", \"government\")\n",
    "contractions.add(\"feb.\", \"february\")\n",
    "contractions.add(\"vp\",\"vice president\")\n",
    "contractions.add(\"eta\",\"estimated time of arrival\")\n",
    "contractions.add(\"dr.\", \"doctor\")\n",
    "contractions.add(\"mr.\", \"mister\")\n",
    "contractions.add(\"mrs.\", \"mistress\")\n",
    "contractions.add(\"st.\", \"street\")\n",
    "contractions.add(\"ave.\", \"avenue\")\n",
    "contractions.add(\"jr.\", \"junior\")\n",
    "contractions.add(\"sr.\", \"senior\")\n",
    "contractions.add(\"dept.\", \"department\")\n",
    "contractions.add(\"min.\", \"minute\")\n",
    "contractions.add(\"sec.\", \"second\")\n",
    "contractions.add(\"yr.\", \"year\")\n",
    "contractions.add(\"hr.\", \"hour\")\n",
    "contractions.add(\"asap\", \"as soon as possible\")\n",
    "contractions.add(\"fyi\", \"for your information\")\n",
    "contractions.add(\"aka\", \"also known as\")\n",
    "contractions.add(\"idk\", \"I do not know\")\n",
    "contractions.add(\"imo\", \"in my opinion\")\n",
    "contractions.add(\"u.s.\", \"united states\")\n",
    "contractions.add(\"u.k.\", \"united kingdom\")\n",
    "contractions.add(\"n.y.\", \"new york\")\n",
    "contractions.add(\"c.a.\", \"california\")\n",
    "contractions.add(\"etc.\", \"et cetera\")\n",
    "contractions.add(\"e.g.\", \"for example\")\n",
    "contractions.add(\"i.e.\", \"that is\")\n",
    "contractions.add(\"vs.\", \"versus\")\n",
    "contractions.add(\"esp.\", \"especially\")\n",
    "contractions.add(\"mgr.\", \"manager\")\n",
    "contractions.add(\"est.\", \"established\")\n",
    "contractions.add(\"lb.\", \"pound\")\n",
    "contractions.add(\"ft.\", \"feet\")\n",
    "contractions.add(\"yr.\", \"year\")\n",
    "contractions.add(\"tba\", \"to be announced\")\n",
    "contractions.add(\"tbd\", \"to be determined\")\n",
    "contractions.add(\"tbh\", \"to be honest\")\n",
    "contractions.add(\"wtf\", \"what the heck\")\n",
    "contractions.add(\"omg\", \"oh my god\")\n",
    "contractions.add(\"lol\", \"laugh out loud\")\n",
    "contractions.add(\"brb\", \"be right back\")\n",
    "contractions.add(\"ttyl\", \"talk to you later\")\n",
    "contractions.add(\"faq\", \"frequently asked questions\")\n",
    "contractions.add(\"pov\", \"point of view\")\n",
    "contractions.add(\"n/a\", \"not applicable\")\n",
    "contractions.add(\"atm\", \"at the moment\")\n",
    "contractions.add(\"smh\", \"shaking my head\")\n",
    "contractions.add(\"b/c\", \"because\")\n",
    "contractions.add(\"w/\", \"with\")\n",
    "contractions.add(\"w/o\", \"without\")\n",
    "contractions.add(\"gov't\", \"government\")\n",
    "contractions.add(\"appt.\", \"appointment\")\n",
    "contractions.add(\"misc.\", \"miscellaneous\")\n",
    "contractions.add(\"wk.\", \"week\")\n",
    "contractions.add(\"mon.\", \"monday\")\n",
    "contractions.add(\"tues.\", \"tuesday\")\n",
    "contractions.add(\"wed.\", \"wednesday\")\n",
    "contractions.add(\"thurs.\", \"thursday\")\n",
    "contractions.add(\"fri.\", \"friday\")\n",
    "contractions.add(\"sat.\", \"saturday\")\n",
    "contractions.add(\"sun.\", \"sunday\")\n",
    "contractions.add(\"jan.\", \"january\")\n",
    "contractions.add(\"feb.\", \"february\")\n",
    "contractions.add(\"mar.\", \"march\")\n",
    "contractions.add(\"apr.\", \"april\")\n",
    "contractions.add(\"jun.\", \"june\")\n",
    "contractions.add(\"jul.\", \"july\")\n",
    "contractions.add(\"aug.\", \"august\")\n",
    "contractions.add(\"sept.\", \"september\")\n",
    "contractions.add(\"oct.\", \"october\")\n",
    "contractions.add(\"nov.\", \"november\")\n",
    "contractions.add(\"dec.\", \"december\")\n",
    "contractions.add(\"gov\", \"government\")\n",
    "contractions.add(\"bjp\", \"bharatiya janata party\")\n",
    "contractions.add(\"evm\", \"electronic voting machine\")\n",
    "contractions.add(\"usps\", \"united states postal service\")\n",
    "contractions.add(\"ccp\", \"chinese communist party\")\n",
    "contractions.add(\"mlb\", \"major league baseball\")\n",
    "contractions.add(\"wef\", \"world economic forum\")\n",
    "contractions.add(\"aap\", \"aam aadmi party\")\n",
    "contractions.add(\"mrna\", \"messenger ribonucleic acid\")\n",
    "contractions.add(\"wv\", \"west virginia\")\n",
    "contractions.add(\"hhs\", \"health and human services\")\n",
    "contractions.add(\"cab\", \"citizenship amendment bill\")\n",
    "contractions.add(\"frdi\", \"financial resolution and deposit insurance\")\n",
    "contractions.add(\"kfc\", \"kentucky fried chicken\")\n",
    "contractions.add(\"pcr\", \"polymerase chain reaction\")\n",
    "contractions.add(\"isis\", \"islamic state of iraq and syria\")\n",
    "contractions.add(\"who\", \"world health organization\")\n",
    "contractions.add(\"icu\", \"intensive care unit\")\n",
    "contractions.add(\"mc\", \"master of ceremonies\")\n",
    "contractions.add(\"rcts\", \"randomised control trials\")\n",
    "contractions.add(\"cdc\", \"centers for disease control and prevention\")\n",
    "contractions.add(\"fda\", \"food and drug administration\")\n",
    "contractions.add(\"potus\", \"president of the united states\")\n",
    "contractions.add(\"ppm\", \"parts per million\")\n",
    "contractions.add(\"antifa\", \"anti-fascist\")\n",
    "contractions.add(\"nhs\", \"national health service\")\n",
    "contractions.add(\"pm\", \"prime minister\")\n",
    "contractions.add(\"mot\", \"ministry of transport\")\n",
    "contractions.add(\"mp\", \"member of parliament\")\n",
    "contractions.add(\"up\", \"uttar pradesh\")\n",
    "contractions.add(\"hrc\", \"hillary rodham clinton\")\n",
    "contractions.add(\"u.s.\", \"united states\")\n",
    "contractions.add(\"uk\", \"united kingdom\")\n",
    "contractions.add(\"oann\", \"one america news network\")\n",
    "contractions.add(\"roevwade\", \"roe v. wade\")\n",
    "contractions.add(\"sars-cov-2\", \"severe acute respiratory syndrome coronavirus 2\")\n",
    "contractions.add(\"gov.uk\", \"official uk government website\")\n",
    "contractions.add(\"bucor\", \"bureau of corrections\")\n",
    "contractions.add(\"elf\", \"earth liberation front\")\n",
    "contractions.add(\"alf\", \"animal liberation front\")\n",
    "contractions.add(\"va\", \"virginia\")\n",
    "contractions.add(\"amzn\", \"amazon\")\n",
    "contractions.add(\"rjd\", \"rashtriya janata dal\")\n",
    "contractions.add(\"psa\", \"public service announcement\")\n",
    "contractions.add(\"ca\", \"california\")\n",
    "contractions.add(\"fda\", \"food and drug administration\")\n",
    "contractions.add(\"bsp\", \"bahujan samaj party\")\n",
    "contractions.add(\"fcdo\", \"foreign, commonwealth & development office\")\n",
    "contractions.add(\"nyc\", \"new york city\")\n",
    "contractions.add(\"dns\", \"domain name system\")\n",
    "contractions.add(\"fb\", \"facebook\")\n",
    "contractions.add(\"mbuhari\", \"muhammadu buhari\")\n",
    "contractions.add(\"bat\", \"bola ahmed tinubu\")\n",
    "contractions.add(\"dps\", \"delhi public school\")\n",
    "contractions.add(\"eu\", \"european union\")\n",
    "contractions.add(\"caap\", \"civil aviation authority of the philippines\")\n",
    "contractions.add(\"dwp\", \"department for work and pensions\")\n",
    "contractions.add(\"mhra\", \"medicines and healthcare products regulatory agency\")\n",
    "contractions.add(\"paf\", \"pakistan air force\")\n",
    "contractions.add(\"cpi(m)\", \"communist party of india (marxist)\")\n",
    "contractions.add(\"aai\", \"airports authority of india\")\n",
    "contractions.add(\"jd(u)\", \"janata dal (united)\")\n",
    "contractions.add(\"nda\", \"national democratic alliance\")\n",
    "contractions.add(\"msu\", \"michigan state university\")\n",
    "contractions.add(\"ani\", \"asian news international\")\n",
    "contractions.add(\"bbm\", \"bongbong marcos\")\n",
    "contractions.add(\"phe\", \"public health england\")\n",
    "contractions.add(\"cdc\", \"centers for disease control and prevention\")\n",
    "contractions.add(\"cia\", \"central intelligence agency\")\n",
    "contractions.add(\"fbi\", \"federal bureau of investigation\")\n",
    "contractions.add(\"maga\", \"make america great again\")\n",
    "contractions.add(\"pso\", \"personal security officer\")\n",
    "contractions.add(\"au\", \"african union\")\n",
    "contractions.add(\"pbbm\", \"president bongbong marcos\")\n",
    "contractions.add(\"blm\", \"black lives matter\")\n",
    "contractions.add(\"ptv\", \"people's television\")\n",
    "contractions.add(\"cma\", \"conditional marketing authorization\")\n",
    "contractions.add(\"r174\", \"regulation 174\")\n",
    "contractions.add(\"kcr\", \"k. chandrashekar rao\")\n",
    "contractions.add(\"nasa\", \"national aeronautics and space administration\")\n",
    "contractions.add(\"atf\", \"bureau of alcohol, tobacco, firearms and explosives\")\n",
    "contractions.add(\"msm\", \"mainstream media\")\n",
    "contractions.add(\"diy\", \"do it yourself\")\n",
    "contractions.add(\"bbn\", \"big brother\")\n",
    "contractions.add(\"ag\", \"attorney general\")\n",
    "contractions.add(\"vp\", \"vice president\")\n",
    "contractions.add(\"nfl\", \"national football league\")\n",
    "contractions.add(\"tx\", \"texas\")\n",
    "contractions.add(\"ama\", \"american medical association\")\n",
    "contractions.add(\"cr\", \"clinical research\")\n",
    "contractions.add(\"au\", \"african union\")\n",
    "contractions.add(\"ai\", \"artificial intelligence\")\n",
    "contractions.add(\"id\", \"identification\")\n",
    "contractions.add(\"ppe\", \"personal protective equipment\")\n",
    "contractions.add(\"a&e\", \"accident and emergency\")\n",
    "contractions.add(\"gmo\", \"genetically modified organism\")\n",
    "contractions.add(\"ogtr\", \"office of the gene technology regulator\")\n",
    "contractions.add(\"vaids\", \"vaccine-acquired immune deficiency syndrome\")\n",
    "contractions.add(\"wef\", \"world economic forum\")\n",
    "contractions.add(\"nato\", \"north atlantic treaty organization\")\n",
    "contractions.add(\"ips\", \"indian police service\")\n",
    "contractions.add(\"dmk\", \"dravida munnetra kazhagam\")\n",
    "contractions.add(\"co2\", \"carbon dioxide\")\n",
    "contractions.add(\"rumint\", \"rumor intelligence\")\n",
    "contractions.add(\"ssr\", \"sushant singh rajput\")\n",
    "contractions.add(\"mp\", \"member of parliament\")\n",
    "contractions.add(\"ev\", \"electric vehicle\")\n",
    "contractions.add(\"us\", \"united states\")\n",
    "contractions.add(\"usa\", \"united states of america\")\n",
    "contractions.add(\"ppm\", \"parts per million\")\n",
    "contractions.add(\"rs\", \"rupees\")\n",
    "contractions.add(\"dept\", \"department\")\n",
    "contractions.add(\"admin\", \"administration\")\n",
    "contractions.add(\"cong\", \"congress\")\n",
    "contractions.add(\"doc\", \"document\")\n",
    "contractions.add(\"info\", \"information\")\n",
    "contractions.add(\"org\", \"organization\")\n",
    "contractions.add(\"rss\", \"rashtriya swayamsevak sangh\")\n",
    "contractions.add(\"aicc\", \"all india congress committee\")\n",
    "contractions.add(\"pm\", \"prime minister\")\n",
    "contractions.add(\"cm\", \"chief minister\")\n",
    "contractions.add(\"fssai\", \"food safety and standards authority of india\")\n",
    "contractions.add(\"icc\", \"international cricket council\")\n",
    "contractions.add(\"md\", \"managing director\")\n",
    "contractions.add(\"srk\", \"shah rukh khan\")\n",
    "contractions.add(\"mla\", \"member of legislative assembly\")\n",
    "contractions.add(\"hc\", \"high court\")\n",
    "contractions.add(\"hcid\", \"high consequence infectious disease\")\n",
    "contractions.add(\"vax\", \"vaccine\")\n",
    "contractions.add(\"pti\", \"pakistan tehreek-e-insaf\")\n",
    "contractions.add(\"mlb\", \"major league baseball\")\n",
    "contractions.add(\"gp\", \"general practitioner\")\n",
    "contractions.add(\"bbc\", \"british broadcasting corporation\")\n",
    "contractions.add(\"dup\", \"democratic unionist party\")\n",
    "contractions.add(\"tory\", \"conservative party\")\n",
    "contractions.add(\"pres\", \"president\")\n",
    "contractions.add(\"sen\", \"senator\")\n",
    "contractions.add(\"rep\", \"representative\")\n",
    "contractions.add(\"co\", \"company\")\n",
    "contractions.add(\"cv\", \"covid-19\")\n",
    "contractions.add(\"sci\", \"science\")\n",
    "contractions.add(\"corp\", \"corporation\")\n",
    "contractions.add(\"assn\", \"association\")\n",
    "contractions.add(\"com\", \"commission\")\n",
    "contractions.add(\"div\", \"division\")\n",
    "contractions.add(\"inst\", \"institute\")\n",
    "contractions.add(\"nat\", \"national\")\n",
    "contractions.add(\"fed\", \"federal\")\n",
    "contractions.add(\"sec\", \"secretary\")\n",
    "contractions.add(\"treas\", \"treasury\")\n",
    "contractions.add(\"legis\", \"legislature\")\n",
    "contractions.add(\"jud\", \"judicial\")\n",
    "contractions.add(\"exec\", \"executive\")\n",
    "contractions.add(\"reg\", \"regulation\")\n",
    "contractions.add(\"std\", \"standard\")\n",
    "contractions.add(\"prog\", \"program\")\n",
    "\n"
   ]
  },
  {
   "cell_type": "code",
   "execution_count": 6,
   "metadata": {
    "execution": {
     "iopub.execute_input": "2025-04-06T13:29:29.566743Z",
     "iopub.status.busy": "2025-04-06T13:29:29.566446Z",
     "iopub.status.idle": "2025-04-06T13:29:29.571209Z",
     "shell.execute_reply": "2025-04-06T13:29:29.570438Z",
     "shell.execute_reply.started": "2025-04-06T13:29:29.566723Z"
    },
    "trusted": true
   },
   "outputs": [],
   "source": [
    "\n",
    "def expand_text(text):\n",
    "    return contractions.fix(text)\n",
    "\n",
    "# Function to preprocess text\n",
    "def preprocess_text(text):\n",
    "    text = contractions.fix(text)\n",
    "    text = re.sub(r\"http\\S+|www\\S+|https\\S+\", \"\", text)  # Remove URLs\n",
    "    text = re.sub(r\"[^A-Za-z0-9\\s]\", \"\", text)  # Remove special characters\n",
    "    text = re.sub(r\"\\s+\", \" \", text)  # Normalize whitespace\n",
    "    return text.strip().lower()"
   ]
  },
  {
   "cell_type": "code",
   "execution_count": 16,
   "metadata": {
    "execution": {
     "iopub.execute_input": "2025-04-06T13:29:29.826442Z",
     "iopub.status.busy": "2025-04-06T13:29:29.826147Z",
     "iopub.status.idle": "2025-04-06T13:29:30.005153Z",
     "shell.execute_reply": "2025-04-06T13:29:30.004253Z",
     "shell.execute_reply.started": "2025-04-06T13:29:29.826422Z"
    },
    "trusted": true
   },
   "outputs": [],
   "source": [
    "# Apply preprocessing\n",
    "df['input'] = df['Social Media Post'].apply(preprocess_text)\n",
    "df['target'] = df['Normalized Claim'].apply(preprocess_text)"
   ]
  },
  {
   "cell_type": "code",
   "execution_count": 17,
   "metadata": {
    "execution": {
     "iopub.execute_input": "2025-04-06T13:29:31.777933Z",
     "iopub.status.busy": "2025-04-06T13:29:31.777629Z",
     "iopub.status.idle": "2025-04-06T13:29:31.789037Z",
     "shell.execute_reply": "2025-04-06T13:29:31.788269Z",
     "shell.execute_reply.started": "2025-04-06T13:29:31.777909Z"
    },
    "trusted": true
   },
   "outputs": [
    {
     "name": "stdout",
     "output_type": "stream",
     "text": [
      "Train Size: 1967, Validation Size: 422, Test Size: 422\n"
     ]
    }
   ],
   "source": [
    "from sklearn.model_selection import train_test_split\n",
    "\n",
    "train_df, temp_df = train_test_split(df, test_size=0.3, random_state=42)\n",
    "val_df, test_df = train_test_split(temp_df, test_size=0.5, random_state=42)\n",
    "\n",
    "print(f\"Train Size: {len(train_df)}, Validation Size: {len(val_df)}, Test Size: {len(test_df)}\")"
   ]
  },
  {
   "cell_type": "code",
   "execution_count": 18,
   "metadata": {
    "execution": {
     "iopub.execute_input": "2025-04-06T13:29:32.045309Z",
     "iopub.status.busy": "2025-04-06T13:29:32.044951Z",
     "iopub.status.idle": "2025-04-06T13:29:32.087305Z",
     "shell.execute_reply": "2025-04-06T13:29:32.086283Z",
     "shell.execute_reply.started": "2025-04-06T13:29:32.045276Z"
    },
    "trusted": true
   },
   "outputs": [],
   "source": [
    "# Convert to HuggingFace datasets\n",
    "from datasets import Dataset, DatasetDict\n",
    "\n",
    "dataset = DatasetDict({\n",
    "    'train': Dataset.from_pandas(train_df[['input', 'target']]),\n",
    "    'validation': Dataset.from_pandas(val_df[['input', 'target']]),\n",
    "    'test': Dataset.from_pandas(test_df[['input', 'target']])\n",
    "})\n"
   ]
  },
  {
   "cell_type": "code",
   "execution_count": 19,
   "metadata": {
    "execution": {
     "iopub.execute_input": "2025-04-06T13:29:33.753251Z",
     "iopub.status.busy": "2025-04-06T13:29:33.752957Z",
     "iopub.status.idle": "2025-04-06T13:29:40.512244Z",
     "shell.execute_reply": "2025-04-06T13:29:40.510999Z",
     "shell.execute_reply.started": "2025-04-06T13:29:33.753230Z"
    },
    "trusted": true
   },
   "outputs": [
    {
     "name": "stdout",
     "output_type": "stream",
     "text": [
      "Requirement already satisfied: evaluate in /usr/local/lib/python3.10/dist-packages (0.4.3)\n",
      "Requirement already satisfied: datasets>=2.0.0 in /usr/local/lib/python3.10/dist-packages (from evaluate) (3.3.1)\n",
      "Requirement already satisfied: numpy>=1.17 in /usr/local/lib/python3.10/dist-packages (from evaluate) (1.26.4)\n",
      "Requirement already satisfied: dill in /usr/local/lib/python3.10/dist-packages (from evaluate) (0.3.8)\n",
      "Requirement already satisfied: pandas in /usr/local/lib/python3.10/dist-packages (from evaluate) (2.2.3)\n",
      "Requirement already satisfied: requests>=2.19.0 in /usr/local/lib/python3.10/dist-packages (from evaluate) (2.32.3)\n",
      "Requirement already satisfied: tqdm>=4.62.1 in /usr/local/lib/python3.10/dist-packages (from evaluate) (4.67.1)\n",
      "Requirement already satisfied: xxhash in /usr/local/lib/python3.10/dist-packages (from evaluate) (3.5.0)\n",
      "Requirement already satisfied: multiprocess in /usr/local/lib/python3.10/dist-packages (from evaluate) (0.70.16)\n",
      "Requirement already satisfied: fsspec>=2021.05.0 in /usr/local/lib/python3.10/dist-packages (from fsspec[http]>=2021.05.0->evaluate) (2024.12.0)\n",
      "Requirement already satisfied: huggingface-hub>=0.7.0 in /usr/local/lib/python3.10/dist-packages (from evaluate) (0.29.0)\n",
      "Requirement already satisfied: packaging in /usr/local/lib/python3.10/dist-packages (from evaluate) (24.2)\n",
      "Requirement already satisfied: filelock in /usr/local/lib/python3.10/dist-packages (from datasets>=2.0.0->evaluate) (3.17.0)\n",
      "Requirement already satisfied: pyarrow>=15.0.0 in /usr/local/lib/python3.10/dist-packages (from datasets>=2.0.0->evaluate) (19.0.1)\n",
      "Requirement already satisfied: aiohttp in /usr/local/lib/python3.10/dist-packages (from datasets>=2.0.0->evaluate) (3.11.12)\n",
      "Requirement already satisfied: pyyaml>=5.1 in /usr/local/lib/python3.10/dist-packages (from datasets>=2.0.0->evaluate) (6.0.2)\n",
      "Requirement already satisfied: typing-extensions>=3.7.4.3 in /usr/local/lib/python3.10/dist-packages (from huggingface-hub>=0.7.0->evaluate) (4.12.2)\n",
      "Requirement already satisfied: mkl_fft in /usr/local/lib/python3.10/dist-packages (from numpy>=1.17->evaluate) (1.3.8)\n",
      "Requirement already satisfied: mkl_random in /usr/local/lib/python3.10/dist-packages (from numpy>=1.17->evaluate) (1.2.4)\n",
      "Requirement already satisfied: mkl_umath in /usr/local/lib/python3.10/dist-packages (from numpy>=1.17->evaluate) (0.1.1)\n",
      "Requirement already satisfied: mkl in /usr/local/lib/python3.10/dist-packages (from numpy>=1.17->evaluate) (2025.0.1)\n",
      "Requirement already satisfied: tbb4py in /usr/local/lib/python3.10/dist-packages (from numpy>=1.17->evaluate) (2022.0.0)\n",
      "Requirement already satisfied: mkl-service in /usr/local/lib/python3.10/dist-packages (from numpy>=1.17->evaluate) (2.4.1)\n",
      "Requirement already satisfied: charset-normalizer<4,>=2 in /usr/local/lib/python3.10/dist-packages (from requests>=2.19.0->evaluate) (3.4.1)\n",
      "Requirement already satisfied: idna<4,>=2.5 in /usr/local/lib/python3.10/dist-packages (from requests>=2.19.0->evaluate) (3.10)\n",
      "Requirement already satisfied: urllib3<3,>=1.21.1 in /usr/local/lib/python3.10/dist-packages (from requests>=2.19.0->evaluate) (2.3.0)\n",
      "Requirement already satisfied: certifi>=2017.4.17 in /usr/local/lib/python3.10/dist-packages (from requests>=2.19.0->evaluate) (2025.1.31)\n",
      "Requirement already satisfied: python-dateutil>=2.8.2 in /usr/local/lib/python3.10/dist-packages (from pandas->evaluate) (2.9.0.post0)\n",
      "Requirement already satisfied: pytz>=2020.1 in /usr/local/lib/python3.10/dist-packages (from pandas->evaluate) (2025.1)\n",
      "Requirement already satisfied: tzdata>=2022.7 in /usr/local/lib/python3.10/dist-packages (from pandas->evaluate) (2025.1)\n",
      "Requirement already satisfied: aiohappyeyeballs>=2.3.0 in /usr/local/lib/python3.10/dist-packages (from aiohttp->datasets>=2.0.0->evaluate) (2.4.6)\n",
      "Requirement already satisfied: aiosignal>=1.1.2 in /usr/local/lib/python3.10/dist-packages (from aiohttp->datasets>=2.0.0->evaluate) (1.3.2)\n",
      "Requirement already satisfied: async-timeout<6.0,>=4.0 in /usr/local/lib/python3.10/dist-packages (from aiohttp->datasets>=2.0.0->evaluate) (5.0.1)\n",
      "Requirement already satisfied: attrs>=17.3.0 in /usr/local/lib/python3.10/dist-packages (from aiohttp->datasets>=2.0.0->evaluate) (25.1.0)\n",
      "Requirement already satisfied: frozenlist>=1.1.1 in /usr/local/lib/python3.10/dist-packages (from aiohttp->datasets>=2.0.0->evaluate) (1.5.0)\n",
      "Requirement already satisfied: multidict<7.0,>=4.5 in /usr/local/lib/python3.10/dist-packages (from aiohttp->datasets>=2.0.0->evaluate) (6.1.0)\n",
      "Requirement already satisfied: propcache>=0.2.0 in /usr/local/lib/python3.10/dist-packages (from aiohttp->datasets>=2.0.0->evaluate) (0.2.1)\n",
      "Requirement already satisfied: yarl<2.0,>=1.17.0 in /usr/local/lib/python3.10/dist-packages (from aiohttp->datasets>=2.0.0->evaluate) (1.18.3)\n",
      "Requirement already satisfied: six>=1.5 in /usr/local/lib/python3.10/dist-packages (from python-dateutil>=2.8.2->pandas->evaluate) (1.17.0)\n",
      "Requirement already satisfied: intel-openmp>=2024 in /usr/local/lib/python3.10/dist-packages (from mkl->numpy>=1.17->evaluate) (2024.2.0)\n",
      "Requirement already satisfied: tbb==2022.* in /usr/local/lib/python3.10/dist-packages (from mkl->numpy>=1.17->evaluate) (2022.0.0)\n",
      "Requirement already satisfied: tcmlib==1.* in /usr/local/lib/python3.10/dist-packages (from tbb==2022.*->mkl->numpy>=1.17->evaluate) (1.2.0)\n",
      "Requirement already satisfied: intel-cmplr-lib-rt in /usr/local/lib/python3.10/dist-packages (from mkl_umath->numpy>=1.17->evaluate) (2024.2.0)\n",
      "Requirement already satisfied: intel-cmplr-lib-ur==2024.2.0 in /usr/local/lib/python3.10/dist-packages (from intel-openmp>=2024->mkl->numpy>=1.17->evaluate) (2024.2.0)\n"
     ]
    }
   ],
   "source": [
    "\n",
    "!pip install evaluate\n",
    "!pip install rouge-score bert-score --quiet"
   ]
  },
  {
   "cell_type": "code",
   "execution_count": 20,
   "metadata": {
    "execution": {
     "iopub.execute_input": "2025-04-06T13:29:44.680503Z",
     "iopub.status.busy": "2025-04-06T13:29:44.680146Z",
     "iopub.status.idle": "2025-04-06T13:30:07.486464Z",
     "shell.execute_reply": "2025-04-06T13:30:07.484994Z",
     "shell.execute_reply.started": "2025-04-06T13:29:44.680472Z"
    },
    "trusted": true
   },
   "outputs": [
    {
     "data": {
      "application/vnd.jupyter.widget-view+json": {
       "model_id": "2aceb2a01f5941ceae24754a4a850e62",
       "version_major": 2,
       "version_minor": 0
      },
      "text/plain": [
       "config.json:   0%|          | 0.00/1.21k [00:00<?, ?B/s]"
      ]
     },
     "metadata": {},
     "output_type": "display_data"
    },
    {
     "data": {
      "application/vnd.jupyter.widget-view+json": {
       "model_id": "8aae2ca5c0a4424f845e638a917f6a7a",
       "version_major": 2,
       "version_minor": 0
      },
      "text/plain": [
       "spiece.model:   0%|          | 0.00/792k [00:00<?, ?B/s]"
      ]
     },
     "metadata": {},
     "output_type": "display_data"
    },
    {
     "data": {
      "application/vnd.jupyter.widget-view+json": {
       "model_id": "661d7096d5ba412db053a545c26de766",
       "version_major": 2,
       "version_minor": 0
      },
      "text/plain": [
       "tokenizer.json:   0%|          | 0.00/1.39M [00:00<?, ?B/s]"
      ]
     },
     "metadata": {},
     "output_type": "display_data"
    },
    {
     "data": {
      "application/vnd.jupyter.widget-view+json": {
       "model_id": "a74f6e7a69ab40c69520219b5014ce34",
       "version_major": 2,
       "version_minor": 0
      },
      "text/plain": [
       "model.safetensors:   0%|          | 0.00/892M [00:00<?, ?B/s]"
      ]
     },
     "metadata": {},
     "output_type": "display_data"
    },
    {
     "data": {
      "application/vnd.jupyter.widget-view+json": {
       "model_id": "4d3884e243a04467a79ed9f0a0a060c6",
       "version_major": 2,
       "version_minor": 0
      },
      "text/plain": [
       "generation_config.json:   0%|          | 0.00/147 [00:00<?, ?B/s]"
      ]
     },
     "metadata": {},
     "output_type": "display_data"
    }
   ],
   "source": [
    "\n",
    "from transformers import AutoTokenizer, AutoModelForSeq2SeqLM, Seq2SeqTrainer, Seq2SeqTrainingArguments, DataCollatorForSeq2Seq\n",
    "\n",
    "model_name = \"t5-base\"  \n",
    "tokenizer = AutoTokenizer.from_pretrained(model_name)\n",
    "model = AutoModelForSeq2SeqLM.from_pretrained(model_name)"
   ]
  },
  {
   "cell_type": "code",
   "execution_count": 21,
   "metadata": {
    "execution": {
     "iopub.execute_input": "2025-04-06T13:30:07.488867Z",
     "iopub.status.busy": "2025-04-06T13:30:07.488107Z",
     "iopub.status.idle": "2025-04-06T13:30:08.819740Z",
     "shell.execute_reply": "2025-04-06T13:30:08.818857Z",
     "shell.execute_reply.started": "2025-04-06T13:30:07.488829Z"
    },
    "trusted": true
   },
   "outputs": [
    {
     "data": {
      "application/vnd.jupyter.widget-view+json": {
       "model_id": "08142830a60a4fd6b6ee0393feace5ca",
       "version_major": 2,
       "version_minor": 0
      },
      "text/plain": [
       "Map:   0%|          | 0/1967 [00:00<?, ? examples/s]"
      ]
     },
     "metadata": {},
     "output_type": "display_data"
    },
    {
     "data": {
      "application/vnd.jupyter.widget-view+json": {
       "model_id": "12bb53b4ceb240b1b35d8a571894364e",
       "version_major": 2,
       "version_minor": 0
      },
      "text/plain": [
       "Map:   0%|          | 0/422 [00:00<?, ? examples/s]"
      ]
     },
     "metadata": {},
     "output_type": "display_data"
    },
    {
     "data": {
      "application/vnd.jupyter.widget-view+json": {
       "model_id": "da14102c2cf34f5dba9f5dbdb920fe3e",
       "version_major": 2,
       "version_minor": 0
      },
      "text/plain": [
       "Map:   0%|          | 0/422 [00:00<?, ? examples/s]"
      ]
     },
     "metadata": {},
     "output_type": "display_data"
    }
   ],
   "source": [
    "\n",
    "def tokenize_function(examples):\n",
    "    model_inputs = tokenizer(examples[\"input\"], max_length=512, truncation=True, padding=\"max_length\")\n",
    "    labels = tokenizer(examples[\"target\"], max_length=128, truncation=True, padding=\"max_length\")\n",
    "    model_inputs[\"labels\"] = labels[\"input_ids\"]\n",
    "    return model_inputs\n",
    "\n",
    "tokenized_datasets = dataset.map(tokenize_function, batched=True)"
   ]
  },
  {
   "cell_type": "code",
   "execution_count": 22,
   "metadata": {
    "execution": {
     "iopub.execute_input": "2025-04-06T13:30:08.821473Z",
     "iopub.status.busy": "2025-04-06T13:30:08.821217Z",
     "iopub.status.idle": "2025-04-06T13:49:00.297759Z",
     "shell.execute_reply": "2025-04-06T13:49:00.296772Z",
     "shell.execute_reply.started": "2025-04-06T13:30:08.821452Z"
    },
    "trusted": true
   },
   "outputs": [
    {
     "name": "stderr",
     "output_type": "stream",
     "text": [
      "/usr/local/lib/python3.10/dist-packages/transformers/training_args.py:1575: FutureWarning: `evaluation_strategy` is deprecated and will be removed in version 4.46 of 🤗 Transformers. Use `eval_strategy` instead\n",
      "  warnings.warn(\n",
      "<ipython-input-22-492c98734bb4>:21: FutureWarning: `tokenizer` is deprecated and will be removed in version 5.0.0 for `Seq2SeqTrainer.__init__`. Use `processing_class` instead.\n",
      "  trainer = Seq2SeqTrainer(\n",
      "Passing a tuple of `past_key_values` is deprecated and will be removed in Transformers v4.48.0. You should pass an instance of `EncoderDecoderCache` instead, e.g. `past_key_values=EncoderDecoderCache.from_legacy_cache(past_key_values)`.\n"
     ]
    },
    {
     "data": {
      "text/html": [
       "\n",
       "    <div>\n",
       "      \n",
       "      <progress value='1476' max='1476' style='width:300px; height:20px; vertical-align: middle;'></progress>\n",
       "      [1476/1476 18:49, Epoch 6/6]\n",
       "    </div>\n",
       "    <table border=\"1\" class=\"dataframe\">\n",
       "  <thead>\n",
       " <tr style=\"text-align: left;\">\n",
       "      <th>Epoch</th>\n",
       "      <th>Training Loss</th>\n",
       "      <th>Validation Loss</th>\n",
       "    </tr>\n",
       "  </thead>\n",
       "  <tbody>\n",
       "    <tr>\n",
       "      <td>1</td>\n",
       "      <td>2.655400</td>\n",
       "      <td>0.546601</td>\n",
       "    </tr>\n",
       "    <tr>\n",
       "      <td>2</td>\n",
       "      <td>0.539000</td>\n",
       "      <td>0.479167</td>\n",
       "    </tr>\n",
       "    <tr>\n",
       "      <td>3</td>\n",
       "      <td>0.485300</td>\n",
       "      <td>0.464994</td>\n",
       "    </tr>\n",
       "    <tr>\n",
       "      <td>4</td>\n",
       "      <td>0.466500</td>\n",
       "      <td>0.457694</td>\n",
       "    </tr>\n",
       "    <tr>\n",
       "      <td>5</td>\n",
       "      <td>0.455100</td>\n",
       "      <td>0.454861</td>\n",
       "    </tr>\n",
       "    <tr>\n",
       "      <td>6</td>\n",
       "      <td>0.448400</td>\n",
       "      <td>0.453815</td>\n",
       "    </tr>\n",
       "  </tbody>\n",
       "</table><p>"
      ],
      "text/plain": [
       "<IPython.core.display.HTML object>"
      ]
     },
     "metadata": {},
     "output_type": "display_data"
    },
    {
     "data": {
      "text/plain": [
       "TrainOutput(global_step=1476, training_loss=0.8416269555647522, metrics={'train_runtime': 1130.6494, 'train_samples_per_second': 10.438, 'train_steps_per_second': 1.305, 'total_flos': 7186921024389120.0, 'train_loss': 0.8416269555647522, 'epoch': 6.0})"
      ]
     },
     "execution_count": 22,
     "metadata": {},
     "output_type": "execute_result"
    }
   ],
   "source": [
    "\n",
    "training_args = Seq2SeqTrainingArguments(\n",
    "    output_dir=\"./results\",\n",
    "    evaluation_strategy=\"epoch\",\n",
    "    save_strategy=\"epoch\",\n",
    "    learning_rate=2e-5,\n",
    "    per_device_train_batch_size=8,\n",
    "    per_device_eval_batch_size=8,\n",
    "    num_train_epochs=6,\n",
    "    weight_decay=0.01,\n",
    "    save_total_limit=1,\n",
    "    logging_dir=\"./logs\",\n",
    "    logging_strategy=\"epoch\",\n",
    "    report_to=\"none\"\n",
    ")\n",
    "\n",
    "data_collator = DataCollatorForSeq2Seq(tokenizer, model=model)\n",
    "\n",
    "trainer = Seq2SeqTrainer(\n",
    "    model=model,\n",
    "    args=training_args,\n",
    "    train_dataset=tokenized_datasets[\"train\"],\n",
    "    eval_dataset=tokenized_datasets[\"validation\"],\n",
    "    tokenizer=tokenizer,\n",
    "    data_collator=data_collator,\n",
    ")\n",
    "\n",
    "trainer.train()"
   ]
  },
  {
   "cell_type": "code",
   "execution_count": 28,
   "metadata": {
    "execution": {
     "iopub.execute_input": "2025-04-06T14:04:08.781728Z",
     "iopub.status.busy": "2025-04-06T14:04:08.781393Z",
     "iopub.status.idle": "2025-04-06T14:04:09.076492Z",
     "shell.execute_reply": "2025-04-06T14:04:09.075583Z",
     "shell.execute_reply.started": "2025-04-06T14:04:08.781701Z"
    },
    "trusted": true
   },
   "outputs": [
    {
     "data": {
      "image/png": "[encoded data removed]",
      "text/plain": [
       "<Figure size 1000x600 with 1 Axes>"
      ]
     },
     "metadata": {},
     "output_type": "display_data"
    }
   ],
   "source": [
    "import matplotlib.pyplot as plt\n",
    "\n",
    "log_history = trainer.state.log_history\n",
    "\n",
    "train_loss = []\n",
    "val_loss = []\n",
    "epochs = []\n",
    "\n",
    "for log in log_history:\n",
    "    if \"loss\" in log and \"epoch\" in log:  \n",
    "        train_loss.append(log[\"loss\"])\n",
    "        if log[\"epoch\"] not in epochs:  \n",
    "            epochs.append(log[\"epoch\"])\n",
    "    if \"eval_loss\" in log and \"epoch\" in log:  \n",
    "        val_loss.append(log[\"eval_loss\"])\n",
    "\n",
    "min_length = min(len(train_loss), len(val_loss))\n",
    "trainにloss = train_loss[:min_length]\n",
    "val_loss = val_loss[:min_length]\n",
    "epochs = epochs[:min_length]\n",
    "\n",
    "plt.figure(figsize=(10, 6))\n",
    "plt.plot(epochs, train_loss, label=\"Training Loss\", marker=\"o\")\n",
    "plt.plot(epochs, val_loss, label=\"Validation Loss\", marker=\"o\")\n",
    "plt.xlabel(\"Epoch\")\n",
    "plt.ylabel(\"Loss\")\n",
    "plt.title(\"Training and Validation Loss Over Epochs\")\n",
    "plt.legend()\n",
    "plt.grid(True)\n",
    "plt.savefig(\"losses t5\")\n",
    "plt.show()"
   ]
  },
  {
   "cell_type": "code",
   "execution_count": 23,
   "metadata": {
    "execution": {
     "iopub.execute_input": "2025-04-06T13:49:00.299388Z",
     "iopub.status.busy": "2025-04-06T13:49:00.299000Z",
     "iopub.status.idle": "2025-04-06T13:49:00.304708Z",
     "shell.execute_reply": "2025-04-06T13:49:00.303835Z",
     "shell.execute_reply.started": "2025-04-06T13:49:00.299347Z"
    },
    "trusted": true
   },
   "outputs": [],
   "source": [
    "\n",
    "def generate_predictions(dataset, batch_size=8):\n",
    "    preds = []\n",
    "    model.eval()\n",
    "    for i in range(0, len(dataset), batch_size):\n",
    "        batch_inputs = dataset[\"input\"][i:i+batch_size]\n",
    "        encoded = tokenizer(batch_inputs, return_tensors=\"pt\", padding=True, truncation=True, max_length=128).to(model.device)\n",
    "        with torch.no_grad():\n",
    "            outputs = model.generate(**encoded, max_length=128)\n",
    "        decoded = tokenizer.batch_decode(outputs, skip_special_tokens=True)\n",
    "        preds.extend(decoded)\n",
    "    return preds\n",
    "\n"
   ]
  },
  {
   "cell_type": "code",
   "execution_count": 24,
   "metadata": {
    "execution": {
     "iopub.execute_input": "2025-04-06T13:49:00.306027Z",
     "iopub.status.busy": "2025-04-06T13:49:00.305703Z",
     "iopub.status.idle": "2025-04-06T13:50:11.243412Z",
     "shell.execute_reply": "2025-04-06T13:50:11.242408Z",
     "shell.execute_reply.started": "2025-04-06T13:49:00.305997Z"
    },
    "trusted": true
   },
   "outputs": [],
   "source": [
    "# Get predictions and references\n",
    "test_data = dataset[\"test\"]\n",
    "test_preds = generate_predictions(test_data)\n",
    "test_refs = [x.lower() for x in test_data[\"target\"]]\n"
   ]
  },
  {
   "cell_type": "code",
   "execution_count": 26,
   "metadata": {
    "execution": {
     "iopub.execute_input": "2025-04-06T14:02:54.436832Z",
     "iopub.status.busy": "2025-04-06T14:02:54.436493Z",
     "iopub.status.idle": "2025-04-06T14:02:59.901815Z",
     "shell.execute_reply": "2025-04-06T14:02:59.901102Z",
     "shell.execute_reply.started": "2025-04-06T14:02:54.436796Z"
    },
    "trusted": true
   },
   "outputs": [
    {
     "name": "stderr",
     "output_type": "stream",
     "text": [
      "Some weights of RobertaModel were not initialized from the model checkpoint at roberta-large and are newly initialized: ['roberta.pooler.dense.bias', 'roberta.pooler.dense.weight']\n",
      "You should probably TRAIN this model on a down-stream task to be able to use it for predictions and inference.\n",
      "Warning: Empty candidate sentence detected; setting raw BERTscores to 0.\n",
      "Warning: Empty reference sentence detected; setting raw BERTScores to 0.\n",
      "Warning: Empty candidate sentence detected; setting raw BERTscores to 0.\n"
     ]
    },
    {
     "name": "stdout",
     "output_type": "stream",
     "text": [
      "ROUGE-L Precision: 0.3405\n",
      "ROUGE-L Recall: 0.3628\n",
      "ROUGE-L F1: 0.3245\n",
      "BERTScore F1: 0.8649\n",
      "BLEU-4: 0.2100\n"
     ]
    }
   ],
   "source": [
    "# ROUGE-L Evaluation\n",
    "from rouge_score import rouge_scorer\n",
    "import numpy as np\n",
    "\n",
    "scorer = rouge_scorer.RougeScorer([\"rougeL\"], use_stemmer=True)\n",
    "precisions, recalls, f1s = [], [], []\n",
    "\n",
    "for pred, ref in zip(test_preds, test_refs):\n",
    "    score = scorer.score(ref, pred)[\"rougeL\"]\n",
    "    precisions.append(score.precision)\n",
    "    recalls.append(score.recall)\n",
    "    f1s.append(score.fmeasure)\n",
    "\n",
    "rougeL_results = {\n",
    "    \"ROUGE-L Precision\": np.mean(precisions),\n",
    "    \"ROUGE-L Recall\": np.mean(recalls),\n",
    "    \"ROUGE-L F1\": np.mean(f1s),\n",
    "}\n",
    "\n",
    "# BERTScore Evaluation\n",
    "import bert_score\n",
    "\n",
    "_, _, F1 = bert_score.score(test_preds, test_refs, lang=\"en\", rescale_with_baseline=False)\n",
    "bert_f1 = F1.mean().item()\n",
    "\n",
    "# BLEU-4 Evaluation\n",
    "import evaluate\n",
    "\n",
    "bleu = evaluate.load(\"bleu\")\n",
    "bleu_result = bleu.compute(predictions=test_preds, references=[[ref] for ref in test_refs], max_order=4)\n",
    "bleu_score = bleu_result[\"bleu\"]\n",
    "\n",
    "\n",
    "# Print all metrics\n",
    "for k, v in rougeL_results.items():\n",
    "    print(f\"{k}: {v:.4f}\")\n",
    "print(f\"BERTScore F1: {bert_f1:.4f}\")\n",
    "print(f\"BLEU-4: {bleu_score:.4f}\")"
   ]
  },
  {
   "cell_type": "code",
   "execution_count": 29,
   "metadata": {
    "execution": {
     "iopub.execute_input": "2025-04-06T14:04:33.672721Z",
     "iopub.status.busy": "2025-04-06T14:04:33.672392Z",
     "iopub.status.idle": "2025-04-06T14:04:35.537563Z",
     "shell.execute_reply": "2025-04-06T14:04:35.536815Z",
     "shell.execute_reply.started": "2025-04-06T14:04:33.672698Z"
    },
    "trusted": true
   },
   "outputs": [
    {
     "name": "stdout",
     "output_type": "stream",
     "text": [
      "Model and tokenizer saved to ./saved_model/t5\n"
     ]
    }
   ],
   "source": [
    "\n",
    "output_model_dir = \"./saved_model/t5\"  \n",
    "trainer.save_model(output_model_dir)  \n",
    "tokenizer.save_pretrained(output_model_dir)  \n",
    "print(f\"Model and tokenizer saved to {output_model_dir}\")"
   ]
  },
  {
   "cell_type": "code",
   "execution_count": null,
   "metadata": {
    "trusted": true
   },
   "outputs": [],
   "source": []
  },
  {
   "cell_type": "markdown",
   "metadata": {},
   "source": [
    "# Load Model"
   ]
  },
  {
   "cell_type": "code",
   "execution_count": 7,
   "metadata": {
    "trusted": true
   },
   "outputs": [
    {
     "name": "stdout",
     "output_type": "stream",
     "text": [
      "Model and tokenizer loaded from saved_model/\n",
      "Test data loaded from CLAN_data.csv\n",
      "Generating predictions...\n",
      "Processing batch 1/6\n",
      "Processing batch 2/6\n",
      "Processing batch 3/6\n",
      "Processing batch 4/6\n",
      "Processing batch 5/6\n",
      "Processing batch 6/6\n",
      "Predictions saved to ./test_predictions_with_metrics.csv\n"
     ]
    }
   ],
   "source": [
    "\n",
    "import torch\n",
    "import pandas as pd\n",
    "from transformers import AutoTokenizer, AutoModelForSeq2SeqLM\n",
    "import contractions\n",
    "import re\n",
    "import numpy as np\n",
    "from rouge_score import rouge_scorer\n",
    "import bert_score\n",
    "import evaluate\n",
    "\n",
    "\n",
    "\n",
    "# Load the saved model and tokenizer\n",
    "\n",
    "output_model_dir = \"saved_model/\"  \n",
    "tokenizer = AutoTokenizer.from_pretrained(output_model_dir)\n",
    "model = AutoModelForSeq2SeqLM.from_pretrained(output_model_dir)\n",
    "print(\"Model and tokenizer loaded from\", output_model_dir)\n",
    "\n",
    "device = torch.device(\"cuda\" if torch.cuda.is_available() else \"cpu\")\n",
    "model.to(device)\n",
    "model.eval() \n",
    "\n",
    "test_file_path = \"CLAN_data.csv\"  \n",
    "test_df = pd.read_csv(test_file_path)\n",
    "print(\"Test data loaded from\", test_file_path)\n",
    "\n",
    "# Preprocess the test data\n",
    "test_df['input'] = test_df['Social Media Post'].apply(preprocess_text)  \n",
    "test_df['target'] = test_df['Normalized Claim'].apply(preprocess_text) \n",
    "\n",
    "\n",
    "def generate_predictions(inputs, batch_size=8, max_length=128):\n",
    "    predictions = []\n",
    "    model.eval()\n",
    "    for i in range(0, len(inputs), batch_size):\n",
    "        print(f\"Processing batch {i // batch_size + 1}/{len(inputs) // batch_size + 1}\")\n",
    "        batch_inputs = inputs[i:i + batch_size]  # Slice the list directly\n",
    "        encoded = tokenizer(batch_inputs, return_tensors=\"pt\", padding=True, truncation=True, max_length=max_length).to(device)\n",
    "        with torch.no_grad():\n",
    "            outputs = model.generate(**encoded, max_length=max_length)\n",
    "        decoded = tokenizer.batch_decode(outputs, skip_special_tokens=True)\n",
    "        predictions.extend(decoded)\n",
    "    return predictions\n",
    "\n",
    "\n",
    "\n",
    "# Get the test inputs and references\n",
    "test_inputs = test_df['input'].tolist()\n",
    "test_refs = test_df['target'].tolist()\n",
    "\n",
    "# Generate predictions\n",
    "print(\"Generating predictions...\")\n",
    "test_predictions = generate_predictions(test_inputs)\n",
    "\n",
    "# Add predictions to the DataFrame\n",
    "test_df['predicted_output'] = test_predictions\n",
    "\n",
    "# Save the results to a new CSV file\n",
    "output_file_path = \"./test_predictions_with_metrics.csv\"\n",
    "test_df.to_csv(output_file_path, index=False)\n",
    "print(f\"Predictions saved to {output_file_path}\")\n",
    "\n",
    "\n",
    "# Display examples\n",
    "# print(\"\\nSample Predictions:\")\n",
    "# for i in range(min(5, len(test_df))): \n",
    "#     print(f\"Input: {test_df['input'].iloc[i]}\")\n",
    "#     print(f\"Prediction: {test_df['predicted_output'].iloc[i]}\")\n",
    "#     print(f\"Reference: {test_df['target'].iloc[i]}\\n\")\n",
    "\n",
    "\n",
    "\n",
    "\n"
   ]
  },
  {
   "cell_type": "code",
   "execution_count": 8,
   "metadata": {},
   "outputs": [
    {
     "name": "stderr",
     "output_type": "stream",
     "text": [
      "Some weights of RobertaModel were not initialized from the model checkpoint at roberta-large and are newly initialized: ['roberta.pooler.dense.bias', 'roberta.pooler.dense.weight']\n",
      "You should probably TRAIN this model on a down-stream task to be able to use it for predictions and inference.\n",
      "Warning: Empty candidate sentence detected; setting raw BERTscores to 0.\n"
     ]
    },
    {
     "name": "stdout",
     "output_type": "stream",
     "text": [
      "Evaluation Metrics:\n",
      "ROUGE-L Precision: 0.1032\n",
      "ROUGE-L Recall: 0.1289\n",
      "ROUGE-L F1: 0.1106\n",
      "BERTScore F1: 0.2594\n",
      "BLEU-4: 0.0468\n"
     ]
    }
   ],
   "source": [
    "# ROUGE-L Evaluation\n",
    "scorer = rouge_scorer.RougeScorer([\"rougeL\"], use_stemmer=True)\n",
    "precisions, recalls, f1s = [], [], []\n",
    "\n",
    "for pred, ref in zip(test_predictions, test_refs):\n",
    "    score = scorer.score(ref, pred)[\"rougeL\"]\n",
    "    precisions.append(score.precision)\n",
    "    recalls.append(score.recall)\n",
    "    f1s.append(score.fmeasure)\n",
    "\n",
    "rougeL_results = {\n",
    "    \"ROUGE-L Precision\": np.mean(precisions),\n",
    "    \"ROUGE-L Recall\": np.mean(recalls),\n",
    "    \"ROUGE-L F1\": np.mean(f1s),\n",
    "}\n",
    "\n",
    "# BERTScore Evaluation\n",
    "\n",
    "_, _, F1 = bert_score.score(test_predictions, test_refs, lang=\"en\", rescale_with_baseline=False)\n",
    "bert_f1 = F1.mean().item()\n",
    "\n",
    "# BLEU-4 Evaluation\n",
    "bleu = evaluate.load(\"bleu\")\n",
    "bleu_result = bleu.compute(predictions=test_predictions, references=[[ref] for ref in test_refs], max_order=4)\n",
    "bleu_score = bleu_result[\"bleu\"]\n",
    "\n",
    "# Print all metrics\n",
    "print(\"Evaluation Metrics:\")\n",
    "for k, v in rougeL_results.items():\n",
    "    print(f\"{k}: {v:.4f}\")\n",
    "print(f\"BERTScore F1: {bert_f1:.4f}\")\n",
    "print(f\"BLEU-4: {bleu_score:.4f}\")"
   ]
  },
  {
   "cell_type": "code",
   "execution_count": null,
   "metadata": {},
   "outputs": [],
   "source": []
  }
 ],
 "metadata": {
  "kaggle": {
   "accelerator": "gpu",
   "dataSources": [
    {
     "datasetId": 7032642,
     "sourceId": 11253630,
     "sourceType": "datasetVersion"
    }
   ],
   "dockerImageVersionId": 30919,
   "isGpuEnabled": true,
   "isInternetEnabled": true,
   "language": "python",
   "sourceType": "notebook"
  },
  "kernelspec": {
   "display_name": "Python 3",
   "language": "python",
   "name": "python3"
  },
  "language_info": {
   "codemirror_mode": {
    "name": "ipython",
    "version": 3
   },
   "file_extension": ".py",
   "mimetype": "text/x-python",
   "name": "python",
   "nbconvert_exporter": "python",
   "pygments_lexer": "ipython3",
   "version": "3.11.9"
  }
 },
 "nbformat": 4,
 "nbformat_minor": 4
}
